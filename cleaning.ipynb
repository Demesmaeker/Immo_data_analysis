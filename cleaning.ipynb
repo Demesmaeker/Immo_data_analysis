{
 "cells": [
  {
   "cell_type": "code",
   "execution_count": 1,
   "metadata": {},
   "outputs": [],
   "source": [
    "import pandas as pd"
   ]
  },
  {
   "cell_type": "code",
   "execution_count": 13,
   "metadata": {},
   "outputs": [],
   "source": [
    "df = pd.read_csv(\"dataset_house_apartment.csv\")"
   ]
  },
  {
   "cell_type": "code",
   "execution_count": null,
   "metadata": {},
   "outputs": [],
   "source": []
  },
  {
   "cell_type": "code",
   "execution_count": 14,
   "metadata": {},
   "outputs": [
    {
     "name": "stdout",
     "output_type": "stream",
     "text": [
      "changed \"no price\" to 0\n",
      "3 useless row deleted\n",
      "None replaced by 0\n",
      "duplicated row cleaned\n",
      "string value changed to numeric\n",
      "correlled renovation statut\n",
      "{0: 'locality', 1: 'type_of_property', 2: 'subtype_of_property', 3: 'price', 4: 'number_of_rooms', 5: 'house_area', 6: 'fully_equipped_kitchen', 7: 'open_fire', 8: 'terrace', 9: 'terrace_area', 10: 'garden', 11: 'garden_area', 12: 'surface_of_the_land', 13: 'number_of_facades', 14: 'swimming_pool', 15: 'state_of_the_building', 16: 'construction_year'}\n"
     ]
    },
    {
     "name": "stdin",
     "output_type": "stream",
     "text": [
      "que voulez-vous clean ? ( q => sortir) a\n"
     ]
    },
    {
     "name": "stdout",
     "output_type": "stream",
     "text": [
      "locality : nbr ligne = 52077\n",
      "52077\n",
      "type_of_property : nbr ligne = 52077\n",
      "52077\n",
      "subtype_of_property : nbr ligne = 52077\n",
      "52077\n",
      "price : nbr ligne = 52077\n",
      "removed price = 0\n",
      "removed price under 50 000\n",
      "51689\n",
      "number_of_rooms : nbr ligne = 51689\n",
      "51689\n",
      "house_area : nbr ligne = 51689\n",
      "removed house area = 0\n",
      "43201\n",
      "fully_equipped_kitchen : nbr ligne = 43201\n",
      "43201\n",
      "open_fire : nbr ligne = 43201\n",
      "43201\n",
      "terrace : nbr ligne = 43201\n",
      "removed terrace that exist = 0\n",
      "33629\n",
      "terrace_area : nbr ligne = 33629\n",
      "33629\n",
      "garden : nbr ligne = 33629\n",
      "29727\n",
      "garden_area : nbr ligne = 29727\n",
      "29727\n",
      "surface_of_the_land : nbr ligne = 29727\n",
      "removed surface of the land = 0\n",
      "12322\n",
      "number_of_facades : nbr ligne = 12322\n",
      "removed facade = 0\n",
      "11146\n",
      "swimming_pool : nbr ligne = 11146\n",
      "11146\n",
      "state_of_the_building : nbr ligne = 11146\n",
      "8361\n",
      "construction_year : nbr ligne = 8361\n",
      "5023\n"
     ]
    },
    {
     "name": "stderr",
     "output_type": "stream",
     "text": [
      "C:\\Users\\vince\\anaconda3\\lib\\site-packages\\pandas\\core\\ops\\array_ops.py:253: FutureWarning: elementwise comparison failed; returning scalar instead, but in the future will perform elementwise comparison\n",
      "  res_values = method(rvalues)\n"
     ]
    },
    {
     "data": {
      "text/html": [
       "<div>\n",
       "<style scoped>\n",
       "    .dataframe tbody tr th:only-of-type {\n",
       "        vertical-align: middle;\n",
       "    }\n",
       "\n",
       "    .dataframe tbody tr th {\n",
       "        vertical-align: top;\n",
       "    }\n",
       "\n",
       "    .dataframe thead th {\n",
       "        text-align: right;\n",
       "    }\n",
       "</style>\n",
       "<table border=\"1\" class=\"dataframe\">\n",
       "  <thead>\n",
       "    <tr style=\"text-align: right;\">\n",
       "      <th></th>\n",
       "      <th>locality</th>\n",
       "      <th>type_of_property</th>\n",
       "      <th>subtype_of_property</th>\n",
       "      <th>price</th>\n",
       "      <th>number_of_rooms</th>\n",
       "      <th>house_area</th>\n",
       "      <th>fully_equipped_kitchen</th>\n",
       "      <th>open_fire</th>\n",
       "      <th>terrace</th>\n",
       "      <th>terrace_area</th>\n",
       "      <th>garden</th>\n",
       "      <th>garden_area</th>\n",
       "      <th>surface_of_the_land</th>\n",
       "      <th>number_of_facades</th>\n",
       "      <th>swimming_pool</th>\n",
       "      <th>state_of_the_building</th>\n",
       "      <th>construction_year</th>\n",
       "    </tr>\n",
       "  </thead>\n",
       "  <tbody>\n",
       "    <tr>\n",
       "      <th>1</th>\n",
       "      <td>1880</td>\n",
       "      <td>house</td>\n",
       "      <td>villa</td>\n",
       "      <td>525000</td>\n",
       "      <td>6.0</td>\n",
       "      <td>250</td>\n",
       "      <td>1</td>\n",
       "      <td>0</td>\n",
       "      <td>1</td>\n",
       "      <td>40</td>\n",
       "      <td>1</td>\n",
       "      <td>430</td>\n",
       "      <td>826.0</td>\n",
       "      <td>4</td>\n",
       "      <td>0</td>\n",
       "      <td>as new</td>\n",
       "      <td>1992</td>\n",
       "    </tr>\n",
       "    <tr>\n",
       "      <th>3</th>\n",
       "      <td>7912</td>\n",
       "      <td>house</td>\n",
       "      <td>villa</td>\n",
       "      <td>550000</td>\n",
       "      <td>4.0</td>\n",
       "      <td>325</td>\n",
       "      <td>1</td>\n",
       "      <td>0</td>\n",
       "      <td>1</td>\n",
       "      <td>125</td>\n",
       "      <td>1</td>\n",
       "      <td>2333</td>\n",
       "      <td>3570.0</td>\n",
       "      <td>4</td>\n",
       "      <td>0</td>\n",
       "      <td>good</td>\n",
       "      <td>1918</td>\n",
       "    </tr>\n",
       "    <tr>\n",
       "      <th>4</th>\n",
       "      <td>6032</td>\n",
       "      <td>house</td>\n",
       "      <td>house</td>\n",
       "      <td>550000</td>\n",
       "      <td>5.0</td>\n",
       "      <td>400</td>\n",
       "      <td>1</td>\n",
       "      <td>0</td>\n",
       "      <td>1</td>\n",
       "      <td>80</td>\n",
       "      <td>1</td>\n",
       "      <td>500</td>\n",
       "      <td>616.0</td>\n",
       "      <td>3</td>\n",
       "      <td>0</td>\n",
       "      <td>as new</td>\n",
       "      <td>1977</td>\n",
       "    </tr>\n",
       "    <tr>\n",
       "      <th>6</th>\n",
       "      <td>1325</td>\n",
       "      <td>house</td>\n",
       "      <td>house</td>\n",
       "      <td>535000</td>\n",
       "      <td>6.0</td>\n",
       "      <td>303</td>\n",
       "      <td>1</td>\n",
       "      <td>0</td>\n",
       "      <td>1</td>\n",
       "      <td>30</td>\n",
       "      <td>1</td>\n",
       "      <td>650</td>\n",
       "      <td>810.0</td>\n",
       "      <td>4</td>\n",
       "      <td>0</td>\n",
       "      <td>as new</td>\n",
       "      <td>1996</td>\n",
       "    </tr>\n",
       "    <tr>\n",
       "      <th>9</th>\n",
       "      <td>8310</td>\n",
       "      <td>house</td>\n",
       "      <td>villa</td>\n",
       "      <td>519000</td>\n",
       "      <td>3.0</td>\n",
       "      <td>273</td>\n",
       "      <td>1</td>\n",
       "      <td>1</td>\n",
       "      <td>0</td>\n",
       "      <td>0</td>\n",
       "      <td>1</td>\n",
       "      <td>303</td>\n",
       "      <td>591.0</td>\n",
       "      <td>4</td>\n",
       "      <td>0</td>\n",
       "      <td>as new</td>\n",
       "      <td>1996</td>\n",
       "    </tr>\n",
       "    <tr>\n",
       "      <th>...</th>\n",
       "      <td>...</td>\n",
       "      <td>...</td>\n",
       "      <td>...</td>\n",
       "      <td>...</td>\n",
       "      <td>...</td>\n",
       "      <td>...</td>\n",
       "      <td>...</td>\n",
       "      <td>...</td>\n",
       "      <td>...</td>\n",
       "      <td>...</td>\n",
       "      <td>...</td>\n",
       "      <td>...</td>\n",
       "      <td>...</td>\n",
       "      <td>...</td>\n",
       "      <td>...</td>\n",
       "      <td>...</td>\n",
       "      <td>...</td>\n",
       "    </tr>\n",
       "    <tr>\n",
       "      <th>51933</th>\n",
       "      <td>9870</td>\n",
       "      <td>house</td>\n",
       "      <td>villa</td>\n",
       "      <td>485000</td>\n",
       "      <td>4.0</td>\n",
       "      <td>235</td>\n",
       "      <td>1</td>\n",
       "      <td>0</td>\n",
       "      <td>0</td>\n",
       "      <td>0</td>\n",
       "      <td>0</td>\n",
       "      <td>0</td>\n",
       "      <td>833.0</td>\n",
       "      <td>4</td>\n",
       "      <td>0</td>\n",
       "      <td>good</td>\n",
       "      <td>1986</td>\n",
       "    </tr>\n",
       "    <tr>\n",
       "      <th>51966</th>\n",
       "      <td>1980</td>\n",
       "      <td>house</td>\n",
       "      <td>house</td>\n",
       "      <td>490000</td>\n",
       "      <td>5.0</td>\n",
       "      <td>300</td>\n",
       "      <td>1</td>\n",
       "      <td>0</td>\n",
       "      <td>0</td>\n",
       "      <td>0</td>\n",
       "      <td>0</td>\n",
       "      <td>0</td>\n",
       "      <td>1333.0</td>\n",
       "      <td>4</td>\n",
       "      <td>0</td>\n",
       "      <td>to renovate</td>\n",
       "      <td>1984</td>\n",
       "    </tr>\n",
       "    <tr>\n",
       "      <th>51975</th>\n",
       "      <td>9870</td>\n",
       "      <td>house</td>\n",
       "      <td>villa</td>\n",
       "      <td>495000</td>\n",
       "      <td>2.0</td>\n",
       "      <td>288</td>\n",
       "      <td>0</td>\n",
       "      <td>0</td>\n",
       "      <td>0</td>\n",
       "      <td>0</td>\n",
       "      <td>0</td>\n",
       "      <td>0</td>\n",
       "      <td>617.0</td>\n",
       "      <td>4</td>\n",
       "      <td>0</td>\n",
       "      <td>as new</td>\n",
       "      <td>1998</td>\n",
       "    </tr>\n",
       "    <tr>\n",
       "      <th>51983</th>\n",
       "      <td>2610</td>\n",
       "      <td>house</td>\n",
       "      <td>house</td>\n",
       "      <td>495000</td>\n",
       "      <td>3.0</td>\n",
       "      <td>160</td>\n",
       "      <td>1</td>\n",
       "      <td>0</td>\n",
       "      <td>0</td>\n",
       "      <td>0</td>\n",
       "      <td>0</td>\n",
       "      <td>0</td>\n",
       "      <td>368.0</td>\n",
       "      <td>3</td>\n",
       "      <td>0</td>\n",
       "      <td>as new</td>\n",
       "      <td>2007</td>\n",
       "    </tr>\n",
       "    <tr>\n",
       "      <th>52017</th>\n",
       "      <td>3520</td>\n",
       "      <td>house</td>\n",
       "      <td>house</td>\n",
       "      <td>499000</td>\n",
       "      <td>4.0</td>\n",
       "      <td>427</td>\n",
       "      <td>0</td>\n",
       "      <td>0</td>\n",
       "      <td>0</td>\n",
       "      <td>0</td>\n",
       "      <td>0</td>\n",
       "      <td>0</td>\n",
       "      <td>3459.0</td>\n",
       "      <td>4</td>\n",
       "      <td>0</td>\n",
       "      <td>as new</td>\n",
       "      <td>1992</td>\n",
       "    </tr>\n",
       "  </tbody>\n",
       "</table>\n",
       "<p>5023 rows × 17 columns</p>\n",
       "</div>"
      ],
      "text/plain": [
       "       locality type_of_property subtype_of_property   price  number_of_rooms  \\\n",
       "1          1880            house               villa  525000              6.0   \n",
       "3          7912            house               villa  550000              4.0   \n",
       "4          6032            house               house  550000              5.0   \n",
       "6          1325            house               house  535000              6.0   \n",
       "9          8310            house               villa  519000              3.0   \n",
       "...         ...              ...                 ...     ...              ...   \n",
       "51933      9870            house               villa  485000              4.0   \n",
       "51966      1980            house               house  490000              5.0   \n",
       "51975      9870            house               villa  495000              2.0   \n",
       "51983      2610            house               house  495000              3.0   \n",
       "52017      3520            house               house  499000              4.0   \n",
       "\n",
       "       house_area  fully_equipped_kitchen  open_fire  terrace  terrace_area  \\\n",
       "1             250                       1          0        1            40   \n",
       "3             325                       1          0        1           125   \n",
       "4             400                       1          0        1            80   \n",
       "6             303                       1          0        1            30   \n",
       "9             273                       1          1        0             0   \n",
       "...           ...                     ...        ...      ...           ...   \n",
       "51933         235                       1          0        0             0   \n",
       "51966         300                       1          0        0             0   \n",
       "51975         288                       0          0        0             0   \n",
       "51983         160                       1          0        0             0   \n",
       "52017         427                       0          0        0             0   \n",
       "\n",
       "       garden  garden_area  surface_of_the_land  number_of_facades  \\\n",
       "1           1          430                826.0                  4   \n",
       "3           1         2333               3570.0                  4   \n",
       "4           1          500                616.0                  3   \n",
       "6           1          650                810.0                  4   \n",
       "9           1          303                591.0                  4   \n",
       "...       ...          ...                  ...                ...   \n",
       "51933       0            0                833.0                  4   \n",
       "51966       0            0               1333.0                  4   \n",
       "51975       0            0                617.0                  4   \n",
       "51983       0            0                368.0                  3   \n",
       "52017       0            0               3459.0                  4   \n",
       "\n",
       "       swimming_pool state_of_the_building  construction_year  \n",
       "1                  0                as new               1992  \n",
       "3                  0                  good               1918  \n",
       "4                  0                as new               1977  \n",
       "6                  0                as new               1996  \n",
       "9                  0                as new               1996  \n",
       "...              ...                   ...                ...  \n",
       "51933              0                  good               1986  \n",
       "51966              0           to renovate               1984  \n",
       "51975              0                as new               1998  \n",
       "51983              0                as new               2007  \n",
       "52017              0                as new               1992  \n",
       "\n",
       "[5023 rows x 17 columns]"
      ]
     },
     "execution_count": 14,
     "metadata": {},
     "output_type": "execute_result"
    }
   ],
   "source": [
    "\n",
    "def menu():\n",
    "    \n",
    "    y = -1\n",
    "    \n",
    "    choix_clean = []\n",
    "    \n",
    "    while y != \"q\":\n",
    "        \n",
    "        print(nom_colonne)\n",
    "        y = input(\"que voulez-vous clean ? ( q => sortir  // a => tous)\")\n",
    "        try:\n",
    "            y = int(y)\n",
    "        except:\n",
    "            if y == \"a\":\n",
    "                for x in range(0,17):\n",
    "                    choix_clean.append(x)\n",
    "                break\n",
    "            elif y == \"q\":\n",
    "                break\n",
    "            print(\"entrer une donnée valide\")\n",
    "\n",
    "\n",
    "        \n",
    "        if y != \"q\":\n",
    "            choix_clean.append(y)\n",
    "    \n",
    "    return choix_clean\n",
    "\n",
    "def clean( df):\n",
    "    \n",
    "    choix_clean = menu()\n",
    "    \n",
    "    for x in choix_clean:\n",
    "        \n",
    "        print(nom_colonne[x] + \" : nbr ligne = \" + str(df.shape[0]))\n",
    "\n",
    "        if x == 0: pass\n",
    "        elif x == 1: pass\n",
    "        elif x == 2: pass\n",
    "        elif x == 3:             \n",
    "            df = df[(df.price != \"no price\")]\n",
    "            df = df[df[\"price\"] > 50000]\n",
    "            print(\"removed price = 0\")\n",
    "            print(\"removed price under 50 000\")\n",
    "        elif x == 4: pass\n",
    "        elif x == 5: \n",
    "            df = df[(df.house_area != 0)]\n",
    "            print(\"removed house area = 0\")\n",
    "        elif x == 6: pass\n",
    "        elif x == 7: pass\n",
    "        elif x == 8: \n",
    "            df = df[(df.terrace == 0) | ((df.terrace == 1) & (df.terrace_area != 0))]\n",
    "            print(\"removed terrace that exist = 0\")\n",
    "        elif x == 9: pass\n",
    "        elif x == 10: \n",
    "            df = df[(df.garden == 0) | ((df.garden == 1) & (df.garden_area != 0))]\n",
    "        elif x == 11: pass\n",
    "        elif x == 12: \n",
    "            df = df[df.surface_of_the_land != 0]\n",
    "            print(\"removed surface of the land = 0\")\n",
    "        elif x == 13: \n",
    "            df = df[df.number_of_facades != 0]\n",
    "            print(\"removed facade = 0\")\n",
    "        elif x == 14: pass\n",
    "        elif x == 15:\n",
    "            df = df[df.state_of_the_building != 0]\n",
    "        elif x == 16:\n",
    "            df = df[df.construction_year != 0]\n",
    "            \n",
    "        else:\n",
    "            continue\n",
    "\n",
    "        print(df.shape[0])\n",
    "        \n",
    "        \n",
    "    return df\n",
    "        \n",
    "              \n",
    "def pre_clean(df):\n",
    "    \"\"\"\n",
    "    Cleaning that don't remove row except for duplicate\n",
    "\n",
    "    \"\"\" \n",
    "    df = df.drop([\"furnished\", \"surface_of_the_plot_of_land\", \"type_of_sale\"], axis=1)\n",
    "    df = df.fillna(\"None\")\n",
    "    df = df.replace(\"None\", 0)\n",
    "    df.drop_duplicates()\n",
    "    df = df.replace(\"no price\", 0)\n",
    "    print(\"changed \\\"no price\\\" to 0\")\n",
    "    df['garden_area'] = pd.to_numeric(df['garden_area'])\n",
    "    df['house_area'] = pd.to_numeric(df['house_area'])\n",
    "    df['terrace_area'] = pd.to_numeric(df['terrace_area'])\n",
    "    df['construction_year'] = pd.to_numeric(df['construction_year'])\n",
    "    df['number_of_facades'] = pd.to_numeric(df['number_of_facades'])\n",
    "    df['price'] = pd.to_numeric(df['price'])\n",
    "    df = df.replace(\"to be done up\", \"to renovate\")\n",
    "    df = df.replace(\"to restore\", \"to renovate\")\n",
    "    df[(df[\"type_of_property\"] == 'apartment') & (df[\"surface_of_the_land\"] == 0)].surface_of_the_land = df['house_area'] + df['terrace_area'] + df['garden_area']\n",
    "    \n",
    "    \n",
    "    print(\"3 useless row deleted\")\n",
    "    print(\"None replaced by 0\")\n",
    "    print(\"duplicated row cleaned\")\n",
    "    print(\"string value changed to numeric\")\n",
    "    print(\"correlled renovation statut\")\n",
    "    \n",
    "    return df\n",
    "    \n",
    "df = pre_clean(df)\n",
    "\n",
    "nom_colonne = {}\n",
    "for x in df.columns.tolist():\n",
    "    nom_colonne[df.columns.tolist().index(x)] = x\n",
    "\n",
    "clean(df)\n",
    "    "
   ]
  },
  {
   "cell_type": "code",
   "execution_count": null,
   "metadata": {},
   "outputs": [],
   "source": [
    "\"\"\"\n",
    "for x in df.columns.tolist():\n",
    "    print(str(df.columns.tolist().index(x) + 1) + \" : \" + str(x))\n",
    "\n",
    "\n",
    "choix = input(\"combien de critère ?\")\"\"\""
   ]
  },
  {
   "cell_type": "code",
   "execution_count": null,
   "metadata": {},
   "outputs": [],
   "source": [
    "print(df.columns.tolist().index(x))"
   ]
  },
  {
   "cell_type": "code",
   "execution_count": null,
   "metadata": {},
   "outputs": [],
   "source": [
    "df"
   ]
  },
  {
   "cell_type": "code",
   "execution_count": null,
   "metadata": {},
   "outputs": [],
   "source": [
    "df.dtypes"
   ]
  },
  {
   "cell_type": "code",
   "execution_count": null,
   "metadata": {},
   "outputs": [],
   "source": [
    "df['number_of_facades'] = pd.to_numeric(df['number_of_facades'])\n"
   ]
  },
  {
   "cell_type": "code",
   "execution_count": null,
   "metadata": {},
   "outputs": [],
   "source": [
    "df.state_of_the_building.value_counts()"
   ]
  },
  {
   "cell_type": "code",
   "execution_count": null,
   "metadata": {},
   "outputs": [],
   "source": [
    "df[df.state_of_the_building == \"as new\"].construction_year.value_counts()"
   ]
  },
  {
   "cell_type": "code",
   "execution_count": null,
   "metadata": {},
   "outputs": [],
   "source": [
    "df = df.drop([\"furnished\", \"surface_of_the_plot_of_land\", \"type_of_sale\"], axis=1)\n",
    "\n",
    "# type_of_sale all is for sale\n",
    "# furnished no info\n",
    "# surface_of_the_plot_of_land no info"
   ]
  },
  {
   "cell_type": "code",
   "execution_count": null,
   "metadata": {},
   "outputs": [],
   "source": [
    "df[(df.garden == 1) & (df.garden_area == \"None\")]"
   ]
  },
  {
   "cell_type": "code",
   "execution_count": null,
   "metadata": {},
   "outputs": [],
   "source": [
    "#df.drop(df[(df.garden == 1) & (df.garden_area == \"None\")])\n",
    "df = df[(df.garden == 0) | ((df.garden == 1) & (df.garden_area != \"None\"))]"
   ]
  },
  {
   "cell_type": "code",
   "execution_count": null,
   "metadata": {},
   "outputs": [],
   "source": [
    "df.to_csv(\"clean_1_garden_45435.csv\")"
   ]
  },
  {
   "cell_type": "code",
   "execution_count": null,
   "metadata": {},
   "outputs": [],
   "source": [
    "df"
   ]
  },
  {
   "cell_type": "code",
   "execution_count": null,
   "metadata": {},
   "outputs": [],
   "source": [
    "df = df[(df.terrace == 0) | ((df.terrace == 1) & (df.terrace_area != \"None\"))]"
   ]
  },
  {
   "cell_type": "code",
   "execution_count": null,
   "metadata": {},
   "outputs": [],
   "source": [
    "df.to_csv(\"clean_2_terrace_35554.csv\")"
   ]
  },
  {
   "cell_type": "code",
   "execution_count": null,
   "metadata": {},
   "outputs": [],
   "source": [
    "df"
   ]
  },
  {
   "cell_type": "code",
   "execution_count": null,
   "metadata": {},
   "outputs": [],
   "source": [
    "df = df[(df.house_area != \"None\")]"
   ]
  },
  {
   "cell_type": "code",
   "execution_count": null,
   "metadata": {},
   "outputs": [],
   "source": [
    "df.to_csv(\"clean_3_house_area_none_29907.csv\")"
   ]
  },
  {
   "cell_type": "code",
   "execution_count": null,
   "metadata": {},
   "outputs": [],
   "source": [
    "df"
   ]
  },
  {
   "cell_type": "code",
   "execution_count": null,
   "metadata": {},
   "outputs": [],
   "source": [
    "df = df[(df.price != \"no price\")]"
   ]
  },
  {
   "cell_type": "code",
   "execution_count": null,
   "metadata": {},
   "outputs": [],
   "source": [
    "df.to_csv(\"clean_4_no_price_29878.csv\")"
   ]
  },
  {
   "cell_type": "code",
   "execution_count": null,
   "metadata": {},
   "outputs": [],
   "source": [
    "df"
   ]
  },
  {
   "cell_type": "code",
   "execution_count": null,
   "metadata": {},
   "outputs": [],
   "source": [
    "pd.options.mode.chained_assignment = None"
   ]
  },
  {
   "cell_type": "code",
   "execution_count": null,
   "metadata": {},
   "outputs": [],
   "source": [
    "lam = lambda x: int(x)\n",
    "df.price = df.price.apply(lam)"
   ]
  },
  {
   "cell_type": "code",
   "execution_count": null,
   "metadata": {},
   "outputs": [],
   "source": [
    "df"
   ]
  },
  {
   "cell_type": "code",
   "execution_count": null,
   "metadata": {},
   "outputs": [],
   "source": [
    "df = df[df[\"price\"] > 75000]"
   ]
  },
  {
   "cell_type": "code",
   "execution_count": null,
   "metadata": {},
   "outputs": [],
   "source": [
    "df.to_csv(\"clean_5_no_viager_29363.csv\")"
   ]
  },
  {
   "cell_type": "code",
   "execution_count": null,
   "metadata": {},
   "outputs": [],
   "source": [
    "df"
   ]
  },
  {
   "cell_type": "code",
   "execution_count": null,
   "metadata": {},
   "outputs": [],
   "source": [
    "df = df[df.surface_of_the_land != 0]"
   ]
  },
  {
   "cell_type": "code",
   "execution_count": null,
   "metadata": {},
   "outputs": [],
   "source": [
    "df.to_csv(\"clean_6_no_surface_of_the_land_28007.csv\")"
   ]
  },
  {
   "cell_type": "code",
   "execution_count": null,
   "metadata": {},
   "outputs": [],
   "source": [
    "df"
   ]
  },
  {
   "cell_type": "code",
   "execution_count": null,
   "metadata": {},
   "outputs": [],
   "source": [
    "df = df[df.state_of_the_building != \"None\"]"
   ]
  },
  {
   "cell_type": "code",
   "execution_count": null,
   "metadata": {},
   "outputs": [],
   "source": [
    "df.to_csv(\"clean_7_state_of_the_building_none_21068.csv\")"
   ]
  },
  {
   "cell_type": "code",
   "execution_count": null,
   "metadata": {},
   "outputs": [],
   "source": [
    "df"
   ]
  },
  {
   "cell_type": "code",
   "execution_count": null,
   "metadata": {},
   "outputs": [],
   "source": [
    "df = df[df.construction_year != \"None\"]"
   ]
  },
  {
   "cell_type": "code",
   "execution_count": null,
   "metadata": {},
   "outputs": [],
   "source": [
    "df.to_csv(\"clean_8_construction_year_none_13483.csv\")"
   ]
  },
  {
   "cell_type": "code",
   "execution_count": null,
   "metadata": {},
   "outputs": [],
   "source": [
    "df"
   ]
  },
  {
   "cell_type": "code",
   "execution_count": null,
   "metadata": {},
   "outputs": [],
   "source": [
    "df.number_of_facades.describe()"
   ]
  },
  {
   "cell_type": "code",
   "execution_count": null,
   "metadata": {},
   "outputs": [],
   "source": [
    "df.number_of_facades.value_counts()"
   ]
  },
  {
   "cell_type": "code",
   "execution_count": null,
   "metadata": {},
   "outputs": [],
   "source": [
    "df[df[\"number_of_facades\"] == \"None\"].type_of_property.value_counts()"
   ]
  },
  {
   "cell_type": "code",
   "execution_count": null,
   "metadata": {},
   "outputs": [],
   "source": [
    "df[df[\"type_of_property\"] == \"apartment\"].number_of_facades.value_counts()"
   ]
  },
  {
   "cell_type": "code",
   "execution_count": null,
   "metadata": {},
   "outputs": [],
   "source": [
    "df = df[df.number_of_facades != \"None\"]"
   ]
  },
  {
   "cell_type": "code",
   "execution_count": null,
   "metadata": {},
   "outputs": [],
   "source": [
    "#TODO save"
   ]
  },
  {
   "cell_type": "code",
   "execution_count": null,
   "metadata": {},
   "outputs": [],
   "source": [
    "df"
   ]
  },
  {
   "cell_type": "code",
   "execution_count": null,
   "metadata": {},
   "outputs": [],
   "source": [
    "df.sample(n=50)"
   ]
  },
  {
   "cell_type": "code",
   "execution_count": null,
   "metadata": {},
   "outputs": [],
   "source": [
    "df[(df[\"type_of_property\"] == 'apartment') & (df[\"surface_of_the_land\"] == \"None\") & (df[\"garden\"] == 1)]"
   ]
  },
  {
   "cell_type": "code",
   "execution_count": null,
   "metadata": {},
   "outputs": [],
   "source": [
    "df.surface_of_the_land.value_counts()"
   ]
  },
  {
   "cell_type": "code",
   "execution_count": null,
   "metadata": {},
   "outputs": [],
   "source": [
    "\"\"\"df['garden_area'] = pd.to_numeric(df['garden_area'])\n",
    "df['house_area'] = pd.to_numeric(df['house_area'])\n",
    "df['terrace_area'] = pd.to_numeric(df['terrace_area'])\"\"\""
   ]
  },
  {
   "cell_type": "code",
   "execution_count": null,
   "metadata": {},
   "outputs": [],
   "source": [
    "df[(df[\"type_of_property\"] == 'apartment') & (df[\"surface_of_the_land\"] == \"None\")].surface_of_the_land = pd.to_numeric(df['house_area']) + pd.to_numeric(df['terrace_area']) + pd.to_numeric(df['garden_area'])"
   ]
  },
  {
   "cell_type": "code",
   "execution_count": null,
   "metadata": {},
   "outputs": [],
   "source": [
    "df"
   ]
  },
  {
   "cell_type": "code",
   "execution_count": null,
   "metadata": {},
   "outputs": [],
   "source": []
  },
  {
   "cell_type": "code",
   "execution_count": null,
   "metadata": {},
   "outputs": [],
   "source": []
  },
  {
   "cell_type": "code",
   "execution_count": null,
   "metadata": {},
   "outputs": [],
   "source": []
  }
 ],
 "metadata": {
  "kernelspec": {
   "display_name": "Python 3",
   "language": "python",
   "name": "python3"
  },
  "language_info": {
   "codemirror_mode": {
    "name": "ipython",
    "version": 3
   },
   "file_extension": ".py",
   "mimetype": "text/x-python",
   "name": "python",
   "nbconvert_exporter": "python",
   "pygments_lexer": "ipython3",
   "version": "3.8.3"
  }
 },
 "nbformat": 4,
 "nbformat_minor": 4
}
