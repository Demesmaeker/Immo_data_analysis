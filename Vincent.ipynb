{
 "cells": [
  {
   "cell_type": "code",
   "execution_count": 225,
   "metadata": {},
   "outputs": [],
   "source": [
    "import pandas as pd\n",
    "import numpy as np\n",
    "import matplotlib.pyplot as plt\n",
    "import seaborn as sns\n",
    "import scipy.stats "
   ]
  },
  {
   "cell_type": "code",
   "execution_count": 350,
   "metadata": {},
   "outputs": [],
   "source": [
    "# fonctions génériques pour manipuler la DB\n",
    "\n",
    "def load_db():\n",
    "    df = pd.read_csv(\"dataset_house_apartment.csv\")\n",
    "    df = pre_clean(df)\n",
    "    df = clean_data_type(df)\n",
    "    df = add_columns(df)\n",
    "    return df\n",
    "\n",
    "def clean_all(df):\n",
    "    df = clean_value(df)\n",
    "    df = clean_extreme_value(df)\n",
    "    df = clean_remove(df)\n",
    "    df = clean_missing(df)\n",
    "    \n",
    "    return df\n",
    "\n",
    "    \"\"\" Pour l'optention de la db la plus propre, ces données sont manquantes mais pas vitale\"\"\"\n",
    "\n",
    "def clean_missing(df):\n",
    "    \n",
    "    print(\"\")\n",
    "    print(\"On retire les maisons qui n'ont pas de façade : 13650\")\n",
    "    df = df[df.number_of_facades != 0]\n",
    "    print(\"\")\n",
    "    print(\"On retire les maisons qui ont un jardin mais pas de superficie de jardin : 6642\")\n",
    "    df = df[(df.garden == 0) | ((df.garden == 1) & (df.garden_area != 0))]    \n",
    "    print(\"\")\n",
    "    print(\"On retire les maisons qui ont une terrace mais pas de superficie de terrace : 11831\")    \n",
    "    df = df[(df.terrace == 0) | ((df.terrace == 1) & (df.terrace_area != 0))] \n",
    "    \n",
    "    return df\n",
    "\n",
    "def clean_value(df):\n",
    "    print(\"\")\n",
    "    print(\"on remplace to be done up et to restore en to renovate pour uniformiser les données\")\n",
    "    df = df.replace(\"to be done up\", \"to renovate\")\n",
    "    df = df.replace(\"to restore\", \"to renovate\")\n",
    "    \n",
    "    \n",
    "    return df\n",
    "\n",
    "def clean_extreme_value(df, colonne = ['number_of_rooms', \n",
    "                                       'house_area', \n",
    "                                       \"terrace_area\", \n",
    "                                       \"garden_area\"]):\n",
    "\n",
    "    # on retire les valeurs extrémes en fonction d'une collone\n",
    "    print(\"\")\n",
    "    print(\"on retire les valeurs extrèmes\")\n",
    "        \n",
    "    for i in colonne:\n",
    "        threshold = 4\n",
    "        mean_y = np.mean(df[i])\n",
    "        stdev_y = np.std(df[i])\n",
    "        z_scores = [(y - mean_y) / stdev_y for y in df[i]]\n",
    "        df = df.drop(df.index[np.where(np.abs(z_scores) > threshold)])\n",
    "\n",
    "    return df\n",
    "\n",
    "\n",
    "def clean_remove(df):\n",
    "    \n",
    "    # valeur manquante qui sont très importantes et compromettent l'intégrité du data set\n",
    "    \n",
    "    \"\"\" Valeur à mon sens inutile, il n'y a pas de correlation entre \n",
    "        surface de la maison + surface du jardin + surface de la terrace\n",
    "        et surface_of_the_land\n",
    "        Il y a de plus des valeurs assez extrémes et régulièrement manquantes\"\"\"\n",
    "    \n",
    "    print(\"\")\n",
    "    print(\"on supprime la collone surface of the land\")\n",
    "    df = df.drop([\"surface_of_the_land\"], axis=1)\n",
    "\n",
    "    \"\"\" Nous retirons les maisons qui vallent moins que 50 000€.\n",
    "        Il y en a 388\"\"\"\n",
    "    print(\"\")\n",
    "    print(\"on supprime les maisons qui countent moins que 50 000€ : 388\")    \n",
    "    df = df[df[\"price\"] > 50000]\n",
    "    \n",
    "    \"\"\" Nous retirons les maisons sans superficie.\n",
    "        Il y en a 8632 \"\"\"\n",
    "    print(\"\")\n",
    "    print(\"on supprime les maisons qui countent moins que 50 000€ : 8632\") \n",
    "    df = df[(df.house_area != 0)]\n",
    "\n",
    "    \n",
    "    return df\n",
    "\n",
    "\"\"\"\n",
    "Cleaning that don't remove row\n",
    "\n",
    "\"\"\"\n",
    "\n",
    "def clean_data_type(df):\n",
    "    print(\"\")\n",
    "    print(\"string value changed to numeric\")\n",
    "    df['garden_area'] = pd.to_numeric(df['garden_area'])\n",
    "    df['house_area'] = pd.to_numeric(df['house_area'])\n",
    "    df['terrace_area'] = pd.to_numeric(df['terrace_area'])\n",
    "    df['construction_year'] = pd.to_numeric(df['construction_year'])\n",
    "    df['number_of_facades'] = pd.to_numeric(df['number_of_facades'])\n",
    "    df['price'] = pd.to_numeric(df['price'])\n",
    "\n",
    "    return df\n",
    "\n",
    "def pre_clean(df):\n",
    "    \n",
    "    print(\"useless row deleted\")\n",
    "    \n",
    "    df = df.drop([\"furnished\"], axis=1)\n",
    "    df = df.drop([\"surface_of_the_plot_of_land\"], axis=1)\n",
    "    df = df.drop([\"type_of_sale\"], axis=1)\n",
    "\n",
    "    print(\"None and Nan replaced by 0\")\n",
    "    \n",
    "    df = df.fillna(\"None\")\n",
    "    df = df.replace(\"None\", 0)\n",
    "    \n",
    "    print(\"changed string for \\\"no price\\\" value to 0\")\n",
    "    df = df.replace(\"no price\", 0)\n",
    "\n",
    "    return df\n",
    "\n",
    "\"\"\" \n",
    "change data_type to corelate, n'est pas repris ailleurs\n",
    "\n",
    "\n",
    "\"\"\"\n",
    "\n",
    "def clean_correlation(df):\n",
    "    \n",
    "    df['type_of_property'] = df['type_of_property'].astype('category').cat.codes\n",
    "    df['subtype_of_property'] = df['subtype_of_property'].astype('category').cat.codes\n",
    "    df['state_of_the_building'] = df['state_of_the_building'].astype('category').cat.codes\n",
    "    df['province'] = df['province'].astype('category').cat.codes\n",
    "    df['region'] = df['region'].astype('category').cat.codes\n",
    "\n",
    "    \n",
    "    return df\n"
   ]
  },
  {
   "cell_type": "code",
   "execution_count": 343,
   "metadata": {},
   "outputs": [],
   "source": [
    "def add_columns(df):\n",
    "    df['province'] = df['locality'].apply(get_province)\n",
    "    df[\"region\"] = df['province'].apply(get_region)\n",
    "    \n",
    "    return df\n",
    "def get_province(locality):\n",
    "    if locality < 1300:\n",
    "        return \"Bruxelles\"\n",
    "    elif locality < 1500:\n",
    "        return \"Brabant Wallon\"\n",
    "    elif locality < 2000:\n",
    "        return \"Brabant Flamand\"\n",
    "    elif locality < 3000:\n",
    "        return \"Anvers\"\n",
    "    elif locality < 3500:\n",
    "        return \"Brabant Flamand\"\n",
    "    elif locality < 4000:\n",
    "        return \"Limbourg\"\n",
    "    elif locality < 5000:\n",
    "        return \"Liege\"\n",
    "    elif locality < 6000:\n",
    "        return \"Namur\"\n",
    "    elif locality < 6600:\n",
    "        return \"Hainaut\"\n",
    "    elif locality < 7000:\n",
    "        return \"Luxembourg\"\n",
    "    elif locality < 8000:\n",
    "        return \"Hainaut\"\n",
    "    elif locality < 9000:\n",
    "        return \"Flandre-Occidentale\"\n",
    "    elif locality < 10000:\n",
    "        return \"Flandre-Orientale\"\n",
    "    \n",
    "def get_region(province):\n",
    "    if province == \"Bruxelles\":\n",
    "        return \"Region de Bruxelles-capitale\"\n",
    "    elif province in [\"Brabant Wallon\", \"Liege\", \"Namur\", \"Hainaut\", \"Luxembourg\"]:\n",
    "        return \"Region Wallonne\"\n",
    "    else:\n",
    "        return \"Region Flamande\"\n"
   ]
  },
  {
   "cell_type": "code",
   "execution_count": 469,
   "metadata": {},
   "outputs": [
    {
     "name": "stdout",
     "output_type": "stream",
     "text": [
      "useless row deleted\n",
      "None and Nan replaced by 0\n",
      "changed string for \"no price\" value to 0\n",
      "\n",
      "string value changed to numeric\n",
      "\n",
      "on remplace to be done up et to restore en to renovate pour uniformiser les données\n",
      "\n",
      "on retire les valeurs extrèmes\n",
      "\n",
      "on supprime la collone surface of the land\n",
      "\n",
      "on supprime les maisons qui countent moins que 50 000€ : 388\n",
      "\n",
      "on supprime les maisons qui countent moins que 50 000€ : 8632\n",
      "\n",
      "On retire les maisons qui n'ont pas de façade : 13650\n",
      "\n",
      "On retire les maisons qui ont un jardin mais pas de superficie de jardin : 6642\n",
      "\n",
      "On retire les maisons qui ont une terrace mais pas de superficie de terrace : 11831\n"
     ]
    }
   ],
   "source": [
    "df = load_db()\n",
    "df = clean_all(df)"
   ]
  },
  {
   "cell_type": "code",
   "execution_count": 393,
   "metadata": {},
   "outputs": [],
   "source": [
    "def heatmap(df, z = None):\n",
    "    \n",
    "    if z == None:\n",
    "        y = 0\n",
    "\n",
    "        for x in list(df.corr()):\n",
    "            print(x)\n",
    "            z = []\n",
    "            for i in (-df.corr().values[y]).argsort()[:6]:\n",
    "\n",
    "                #print(list(df.corr())[i])\n",
    "                #print(df.corr().values[y][i])\n",
    "                z.append(list(df.corr())[i])\n",
    "            y += 1\n",
    "\n",
    "            da = df[[z[0], z[1], z[2], z[3], z[4]]]\n",
    "\n",
    "            plt.figure(figsize=(8,8))\n",
    "\n",
    "            seaborn.heatmap(da.corr(), annot=True, cmap=\"coolwarm\")\n",
    "    else:\n",
    "        y = 0\n",
    "\n",
    "        for x in list(df.corr()):\n",
    "            y += 1\n",
    "            if x == z:\n",
    "                break\n",
    "\n",
    "        z = []\n",
    "        for i in (-df.corr().values[y-1]).argsort()[:6]:\n",
    "\n",
    "            #print(list(df.corr())[i])\n",
    "            #print(df.corr().values[y][i])\n",
    "            z.append(list(df.corr())[i])\n",
    "\n",
    "        da = df[[z[0], z[1], z[2], z[3], z[4], z[5]]]\n",
    "\n",
    "        plt.figure(figsize=(8,8))\n",
    "\n",
    "        seaborn.heatmap(da.corr(), annot=True, cmap=\"coolwarm\")   \n",
    "\n"
   ]
  },
  {
   "cell_type": "code",
   "execution_count": 396,
   "metadata": {},
   "outputs": [
    {
     "data": {
      "image/png": "[encoded data removed]",
      "text/plain": [
       "<Figure size 576x576 with 2 Axes>"
      ]
     },
     "metadata": {
      "needs_background": "light"
     },
     "output_type": "display_data"
    }
   ],
   "source": [
    "df = clean_correlation(df)\n",
    "heatmap(df,\"price\")"
   ]
  },
  {
   "cell_type": "code",
   "execution_count": 473,
   "metadata": {},
   "outputs": [
    {
     "ename": "AttributeError",
     "evalue": "'DataFrame' object has no attribute 'test'",
     "output_type": "error",
     "traceback": [
      "\u001b[1;31m---------------------------------------------------------------------------\u001b[0m",
      "\u001b[1;31mAttributeError\u001b[0m                            Traceback (most recent call last)",
      "\u001b[1;32m<ipython-input-473-4e273acc8632>\u001b[0m in \u001b[0;36m<module>\u001b[1;34m\u001b[0m\n\u001b[1;32m----> 1\u001b[1;33m df[df['subtype_of_property'].\n\u001b[0m\u001b[0;32m      2\u001b[0m         map(df[df[\"type_of_property\"] == \"apartment\"]['subtype_of_property'].value_counts()) == 21].apply(\"test\")\n\u001b[0;32m      3\u001b[0m \u001b[1;33m\u001b[0m\u001b[0m\n\u001b[0;32m      4\u001b[0m \"\"\"df[df['subtype_of_property']] = \"test\"\n\u001b[0;32m      5\u001b[0m \"\"\"\n",
      "\u001b[1;32m~\\anaconda3\\lib\\site-packages\\pandas\\core\\frame.py\u001b[0m in \u001b[0;36mapply\u001b[1;34m(self, func, axis, raw, result_type, args, **kwds)\u001b[0m\n\u001b[0;32m   6876\u001b[0m             \u001b[0mkwds\u001b[0m\u001b[1;33m=\u001b[0m\u001b[0mkwds\u001b[0m\u001b[1;33m,\u001b[0m\u001b[1;33m\u001b[0m\u001b[1;33m\u001b[0m\u001b[0m\n\u001b[0;32m   6877\u001b[0m         )\n\u001b[1;32m-> 6878\u001b[1;33m         \u001b[1;32mreturn\u001b[0m \u001b[0mop\u001b[0m\u001b[1;33m.\u001b[0m\u001b[0mget_result\u001b[0m\u001b[1;33m(\u001b[0m\u001b[1;33m)\u001b[0m\u001b[1;33m\u001b[0m\u001b[1;33m\u001b[0m\u001b[0m\n\u001b[0m\u001b[0;32m   6879\u001b[0m \u001b[1;33m\u001b[0m\u001b[0m\n\u001b[0;32m   6880\u001b[0m     \u001b[1;32mdef\u001b[0m \u001b[0mapplymap\u001b[0m\u001b[1;33m(\u001b[0m\u001b[0mself\u001b[0m\u001b[1;33m,\u001b[0m \u001b[0mfunc\u001b[0m\u001b[1;33m)\u001b[0m \u001b[1;33m->\u001b[0m \u001b[1;34m\"DataFrame\"\u001b[0m\u001b[1;33m:\u001b[0m\u001b[1;33m\u001b[0m\u001b[1;33m\u001b[0m\u001b[0m\n",
      "\u001b[1;32m~\\anaconda3\\lib\\site-packages\\pandas\\core\\apply.py\u001b[0m in \u001b[0;36mget_result\u001b[1;34m(self)\u001b[0m\n\u001b[0;32m    158\u001b[0m             \u001b[1;31m# Some methods (shift, etc.) require the axis argument, others\u001b[0m\u001b[1;33m\u001b[0m\u001b[1;33m\u001b[0m\u001b[1;33m\u001b[0m\u001b[0m\n\u001b[0;32m    159\u001b[0m             \u001b[1;31m# don't, so inspect and insert if necessary.\u001b[0m\u001b[1;33m\u001b[0m\u001b[1;33m\u001b[0m\u001b[1;33m\u001b[0m\u001b[0m\n\u001b[1;32m--> 160\u001b[1;33m             \u001b[0mfunc\u001b[0m \u001b[1;33m=\u001b[0m \u001b[0mgetattr\u001b[0m\u001b[1;33m(\u001b[0m\u001b[0mself\u001b[0m\u001b[1;33m.\u001b[0m\u001b[0mobj\u001b[0m\u001b[1;33m,\u001b[0m \u001b[0mself\u001b[0m\u001b[1;33m.\u001b[0m\u001b[0mf\u001b[0m\u001b[1;33m)\u001b[0m\u001b[1;33m\u001b[0m\u001b[1;33m\u001b[0m\u001b[0m\n\u001b[0m\u001b[0;32m    161\u001b[0m             \u001b[0msig\u001b[0m \u001b[1;33m=\u001b[0m \u001b[0minspect\u001b[0m\u001b[1;33m.\u001b[0m\u001b[0mgetfullargspec\u001b[0m\u001b[1;33m(\u001b[0m\u001b[0mfunc\u001b[0m\u001b[1;33m)\u001b[0m\u001b[1;33m\u001b[0m\u001b[1;33m\u001b[0m\u001b[0m\n\u001b[0;32m    162\u001b[0m             \u001b[1;32mif\u001b[0m \u001b[1;34m\"axis\"\u001b[0m \u001b[1;32min\u001b[0m \u001b[0msig\u001b[0m\u001b[1;33m.\u001b[0m\u001b[0margs\u001b[0m\u001b[1;33m:\u001b[0m\u001b[1;33m\u001b[0m\u001b[1;33m\u001b[0m\u001b[0m\n",
      "\u001b[1;32m~\\anaconda3\\lib\\site-packages\\pandas\\core\\generic.py\u001b[0m in \u001b[0;36m__getattr__\u001b[1;34m(self, name)\u001b[0m\n\u001b[0;32m   5272\u001b[0m             \u001b[1;32mif\u001b[0m \u001b[0mself\u001b[0m\u001b[1;33m.\u001b[0m\u001b[0m_info_axis\u001b[0m\u001b[1;33m.\u001b[0m\u001b[0m_can_hold_identifiers_and_holds_name\u001b[0m\u001b[1;33m(\u001b[0m\u001b[0mname\u001b[0m\u001b[1;33m)\u001b[0m\u001b[1;33m:\u001b[0m\u001b[1;33m\u001b[0m\u001b[1;33m\u001b[0m\u001b[0m\n\u001b[0;32m   5273\u001b[0m                 \u001b[1;32mreturn\u001b[0m \u001b[0mself\u001b[0m\u001b[1;33m[\u001b[0m\u001b[0mname\u001b[0m\u001b[1;33m]\u001b[0m\u001b[1;33m\u001b[0m\u001b[1;33m\u001b[0m\u001b[0m\n\u001b[1;32m-> 5274\u001b[1;33m             \u001b[1;32mreturn\u001b[0m \u001b[0mobject\u001b[0m\u001b[1;33m.\u001b[0m\u001b[0m__getattribute__\u001b[0m\u001b[1;33m(\u001b[0m\u001b[0mself\u001b[0m\u001b[1;33m,\u001b[0m \u001b[0mname\u001b[0m\u001b[1;33m)\u001b[0m\u001b[1;33m\u001b[0m\u001b[1;33m\u001b[0m\u001b[0m\n\u001b[0m\u001b[0;32m   5275\u001b[0m \u001b[1;33m\u001b[0m\u001b[0m\n\u001b[0;32m   5276\u001b[0m     \u001b[1;32mdef\u001b[0m \u001b[0m__setattr__\u001b[0m\u001b[1;33m(\u001b[0m\u001b[0mself\u001b[0m\u001b[1;33m,\u001b[0m \u001b[0mname\u001b[0m\u001b[1;33m:\u001b[0m \u001b[0mstr\u001b[0m\u001b[1;33m,\u001b[0m \u001b[0mvalue\u001b[0m\u001b[1;33m)\u001b[0m \u001b[1;33m->\u001b[0m \u001b[1;32mNone\u001b[0m\u001b[1;33m:\u001b[0m\u001b[1;33m\u001b[0m\u001b[1;33m\u001b[0m\u001b[0m\n",
      "\u001b[1;31mAttributeError\u001b[0m: 'DataFrame' object has no attribute 'test'"
     ]
    }
   ],
   "source": [
    "df[df['subtype_of_property'].\n",
    "        map(df[df[\"type_of_property\"] == \"apartment\"]['subtype_of_property'].value_counts()) == 21].apply(\"test\")\n",
    "\n",
    "\"\"\"df[df['subtype_of_property']] = \"test\"\n",
    "\"\"\"\n"
   ]
  },
  {
   "cell_type": "code",
   "execution_count": 453,
   "metadata": {},
   "outputs": [
    {
     "data": {
      "text/plain": [
       "apartment       7713\n",
       "duplex           723\n",
       "ground floor     546\n",
       "penthouse        397\n",
       "flat studio      385\n",
       "loft             109\n",
       "service flat      93\n",
       "triplex           47\n",
       "Name: subtype_of_property, dtype: int64"
      ]
     },
     "execution_count": 453,
     "metadata": {},
     "output_type": "execute_result"
    }
   ],
   "source": [
    "df[df.type_of_property == \"apartment\"][\"subtype_of_property\"].value_counts()\n",
    "#df.loc[df['surface_of_the_land'] != df['house_area'] + df['terrace_area'] + df['garden_area']]"
   ]
  },
  {
   "cell_type": "code",
   "execution_count": 454,
   "metadata": {},
   "outputs": [
    {
     "name": "stdout",
     "output_type": "stream",
     "text": [
      "ola\n",
      "flat studio     385\n",
      "loft            109\n",
      "service flat     93\n",
      "triplex          47\n",
      "Name: subtype_of_property, dtype: int64\n",
      "385\n",
      "109\n",
      "93\n",
      "47\n"
     ]
    }
   ],
   "source": [
    "i = df[df.type_of_property == \"apartment\"][\"subtype_of_property\"].value_counts()[4:100]\n",
    "\n",
    "print(\"ola\")\n",
    "print(i)\n",
    "\n",
    "for c in i:\n",
    "    print(c)"
   ]
  },
  {
   "cell_type": "code",
   "execution_count": 402,
   "metadata": {},
   "outputs": [
    {
     "data": {
      "text/plain": [
       "house                   9046\n",
       "villa                    982\n",
       "apartment block          537\n",
       "mixed use building       475\n",
       "town house               239\n",
       "mansion                  220\n",
       "exceptional property     163\n",
       "country cottage          107\n",
       "bungalow                  99\n",
       "chalet                    62\n",
       "farmhouse                 45\n",
       "manor house               42\n",
       "other property            40\n",
       "castle                     3\n",
       "Name: subtype_of_property, dtype: int64"
      ]
     },
     "execution_count": 402,
     "metadata": {},
     "output_type": "execute_result"
    }
   ],
   "source": [
    "df[df.type_of_property != \"apartment\"][\"subtype_of_property\"].value_counts()\n"
   ]
  },
  {
   "cell_type": "code",
   "execution_count": null,
   "metadata": {},
   "outputs": [],
   "source": [
    "df.loc[df['surface_of_the_land'] != df['house_area'] + df['terrace_area'] + df['garden_area']]"
   ]
  },
  {
   "cell_type": "code",
   "execution_count": 88,
   "metadata": {},
   "outputs": [
    {
     "data": {
      "text/plain": [
       "['locality',\n",
       " 'type_of_property',\n",
       " 'subtype_of_property',\n",
       " 'price',\n",
       " 'number_of_rooms',\n",
       " 'house_area',\n",
       " 'fully_equipped_kitchen',\n",
       " 'open_fire',\n",
       " 'terrace',\n",
       " 'terrace_area',\n",
       " 'garden',\n",
       " 'garden_area',\n",
       " 'surface_of_the_land',\n",
       " 'number_of_facades',\n",
       " 'swimming_pool',\n",
       " 'state_of_the_building',\n",
       " 'construction_year',\n",
       " 'province',\n",
       " 'region']"
      ]
     },
     "execution_count": 88,
     "metadata": {},
     "output_type": "execute_result"
    }
   ],
   "source": [
    "list(df.columns) \n"
   ]
  },
  {
   "cell_type": "code",
   "execution_count": 18,
   "metadata": {},
   "outputs": [
    {
     "name": "stdout",
     "output_type": "stream",
     "text": [
      "Bruxelles\n",
      "Brabant Flamand\n",
      "Liege\n",
      "Hainaut\n",
      "Brabant Wallon\n",
      "Flandre-Occidentale\n",
      "Luxembourg\n",
      "Flandre-Orientale\n",
      "Namur\n",
      "Anvers\n",
      "Limbourg\n"
     ]
    }
   ],
   "source": [
    "df.province.unique().tolist()\n",
    "\n",
    "for element in df.province.unique().tolist():\n",
    "    print(element)\n"
   ]
  }
 ],
 "metadata": {
  "kernelspec": {
   "display_name": "Python 3",
   "language": "python",
   "name": "python3"
  },
  "language_info": {
   "codemirror_mode": {
    "name": "ipython",
    "version": 3
   },
   "file_extension": ".py",
   "mimetype": "text/x-python",
   "name": "python",
   "nbconvert_exporter": "python",
   "pygments_lexer": "ipython3",
   "version": "3.8.3"
  }
 },
 "nbformat": 4,
 "nbformat_minor": 4
}
