{
 "cells": [
  {
   "cell_type": "code",
   "execution_count": 1,
   "metadata": {},
   "outputs": [],
   "source": [
    "import pandas as pd\n",
    "import numpy as np\n",
    "import matplotlib.pyplot as plt\n",
    "\n",
    "from functions import clean\n",
    "\n",
    "\n",
    "df = pd.read_csv(\"dataset_house_apartment.csv\")"
   ]
  },
  {
   "cell_type": "markdown",
   "metadata": {},
   "source": [
    "# Comparisons between all the variables except for the price"
   ]
  },
  {
   "cell_type": "markdown",
   "metadata": {},
   "source": [
    "## Locality"
   ]
  },
  {
   "cell_type": "markdown",
   "metadata": {},
   "source": [
    "#### By type of property"
   ]
  },
  {
   "cell_type": "code",
   "execution_count": 2,
   "metadata": {},
   "outputs": [
    {
     "name": "stdout",
     "output_type": "stream",
     "text": [
      "locality : nbr ligne = 52077\n",
      "52077\n",
      "type_of_property : nbr ligne = 52077\n",
      "52077\n"
     ]
    }
   ],
   "source": [
    "locality_type = clean(df, [0,1])"
   ]
  },
  {
   "cell_type": "raw",
   "metadata": {},
   "source": [
    "Working with 52.077 cleaned entries."
   ]
  },
  {
   "cell_type": "code",
   "execution_count": 3,
   "metadata": {},
   "outputs": [],
   "source": [
    "province_house = locality_type[locality_type['type_of_property'] == 'house'].groupby('province').locality.agg(['count'])\n",
    "\n",
    "province_apart = locality_type[locality_type['type_of_property'] == 'apartment'].groupby('province').locality.agg(['count'])\n",
    "\n",
    "province_house.reset_index(level=0, inplace=True)\n",
    "province_house = province_house.rename(columns={'count':'Number of Houses'})\n",
    "province_apart.reset_index(level=0, inplace=True)\n",
    "province_apart = province_apart.rename(columns={'count':'Number of Apartments'})\n",
    "\n",
    "province_type = pd.merge(province_house, province_apart, how = 'outer', on='province')"
   ]
  },
  {
   "cell_type": "code",
   "execution_count": 4,
   "metadata": {},
   "outputs": [
    {
     "data": {
      "text/plain": [
       "<matplotlib.axes._subplots.AxesSubplot at 0x179e1f1cb80>"
      ]
     },
     "execution_count": 4,
     "metadata": {},
     "output_type": "execute_result"
    },
    {
     "data": {
      "image/png": "[encoded data removed]",
      "text/plain": [
       "<Figure size 1080x720 with 1 Axes>"
      ]
     },
     "metadata": {
      "needs_background": "light"
     },
     "output_type": "display_data"
    }
   ],
   "source": [
    "province_type.plot.bar(x = 'province', \n",
    "                       y = ['Number of Houses', 'Number of Apartments'], \n",
    "                       figsize=(15,10), \n",
    "                       title=\"Number of houses/apartments by province\")"
   ]
  },
  {
   "cell_type": "markdown",
   "metadata": {},
   "source": [
    "#### By subtype of property"
   ]
  },
  {
   "cell_type": "code",
   "execution_count": 5,
   "metadata": {},
   "outputs": [
    {
     "name": "stdout",
     "output_type": "stream",
     "text": [
      "locality : nbr ligne = 52077\n",
      "52077\n",
      "type_of_property : nbr ligne = 52077\n",
      "52077\n",
      "subtype_of_property : nbr ligne = 52077\n",
      "52077\n"
     ]
    }
   ],
   "source": [
    "locality_subtype = clean(df, [0, 1, 2])"
   ]
  },
  {
   "cell_type": "raw",
   "metadata": {},
   "source": [
    "Working with 52.077 cleaned entries."
   ]
  },
  {
   "cell_type": "code",
   "execution_count": 6,
   "metadata": {},
   "outputs": [
    {
     "data": {
      "text/html": [
       "<div>\n",
       "<style scoped>\n",
       "    .dataframe tbody tr th:only-of-type {\n",
       "        vertical-align: middle;\n",
       "    }\n",
       "\n",
       "    .dataframe tbody tr th {\n",
       "        vertical-align: top;\n",
       "    }\n",
       "\n",
       "    .dataframe thead th {\n",
       "        text-align: right;\n",
       "    }\n",
       "</style>\n",
       "<table border=\"1\" class=\"dataframe\">\n",
       "  <thead>\n",
       "    <tr style=\"text-align: right;\">\n",
       "      <th></th>\n",
       "      <th>Subtype</th>\n",
       "      <th>Anvers</th>\n",
       "      <th>Brabant Flamand</th>\n",
       "      <th>Brabant Wallon</th>\n",
       "      <th>Bruxelles</th>\n",
       "      <th>Flandre-Occidentale</th>\n",
       "      <th>Flandre-Orientale</th>\n",
       "      <th>Hainaut</th>\n",
       "      <th>Liege</th>\n",
       "      <th>Limbourg</th>\n",
       "      <th>Luxembourg</th>\n",
       "      <th>Namur</th>\n",
       "    </tr>\n",
       "  </thead>\n",
       "  <tbody>\n",
       "    <tr>\n",
       "      <th>0</th>\n",
       "      <td>house</td>\n",
       "      <td>2512.0</td>\n",
       "      <td>2001.0</td>\n",
       "      <td>788.0</td>\n",
       "      <td>580.0</td>\n",
       "      <td>3583</td>\n",
       "      <td>3179.0</td>\n",
       "      <td>3389.0</td>\n",
       "      <td>2555.0</td>\n",
       "      <td>1478.0</td>\n",
       "      <td>886.0</td>\n",
       "      <td>1149.0</td>\n",
       "    </tr>\n",
       "    <tr>\n",
       "      <th>1</th>\n",
       "      <td>villa</td>\n",
       "      <td>298.0</td>\n",
       "      <td>374.0</td>\n",
       "      <td>345.0</td>\n",
       "      <td>13.0</td>\n",
       "      <td>411</td>\n",
       "      <td>241.0</td>\n",
       "      <td>480.0</td>\n",
       "      <td>281.0</td>\n",
       "      <td>120.0</td>\n",
       "      <td>69.0</td>\n",
       "      <td>199.0</td>\n",
       "    </tr>\n",
       "    <tr>\n",
       "      <th>2</th>\n",
       "      <td>mixed use building</td>\n",
       "      <td>118.0</td>\n",
       "      <td>77.0</td>\n",
       "      <td>37.0</td>\n",
       "      <td>64.0</td>\n",
       "      <td>57</td>\n",
       "      <td>100.0</td>\n",
       "      <td>199.0</td>\n",
       "      <td>174.0</td>\n",
       "      <td>66.0</td>\n",
       "      <td>51.0</td>\n",
       "      <td>44.0</td>\n",
       "    </tr>\n",
       "    <tr>\n",
       "      <th>3</th>\n",
       "      <td>town house</td>\n",
       "      <td>71.0</td>\n",
       "      <td>60.0</td>\n",
       "      <td>25.0</td>\n",
       "      <td>42.0</td>\n",
       "      <td>39</td>\n",
       "      <td>32.0</td>\n",
       "      <td>49.0</td>\n",
       "      <td>74.0</td>\n",
       "      <td>1.0</td>\n",
       "      <td>5.0</td>\n",
       "      <td>11.0</td>\n",
       "    </tr>\n",
       "    <tr>\n",
       "      <th>4</th>\n",
       "      <td>mansion</td>\n",
       "      <td>65.0</td>\n",
       "      <td>24.0</td>\n",
       "      <td>12.0</td>\n",
       "      <td>36.0</td>\n",
       "      <td>82</td>\n",
       "      <td>70.0</td>\n",
       "      <td>76.0</td>\n",
       "      <td>40.0</td>\n",
       "      <td>21.0</td>\n",
       "      <td>6.0</td>\n",
       "      <td>29.0</td>\n",
       "    </tr>\n",
       "    <tr>\n",
       "      <th>5</th>\n",
       "      <td>apartment block</td>\n",
       "      <td>62.0</td>\n",
       "      <td>42.0</td>\n",
       "      <td>23.0</td>\n",
       "      <td>204.0</td>\n",
       "      <td>44</td>\n",
       "      <td>79.0</td>\n",
       "      <td>232.0</td>\n",
       "      <td>232.0</td>\n",
       "      <td>14.0</td>\n",
       "      <td>32.0</td>\n",
       "      <td>80.0</td>\n",
       "    </tr>\n",
       "    <tr>\n",
       "      <th>6</th>\n",
       "      <td>exceptional property</td>\n",
       "      <td>45.0</td>\n",
       "      <td>51.0</td>\n",
       "      <td>32.0</td>\n",
       "      <td>14.0</td>\n",
       "      <td>37</td>\n",
       "      <td>41.0</td>\n",
       "      <td>66.0</td>\n",
       "      <td>83.0</td>\n",
       "      <td>12.0</td>\n",
       "      <td>40.0</td>\n",
       "      <td>29.0</td>\n",
       "    </tr>\n",
       "    <tr>\n",
       "      <th>7</th>\n",
       "      <td>country cottage</td>\n",
       "      <td>23.0</td>\n",
       "      <td>43.0</td>\n",
       "      <td>28.0</td>\n",
       "      <td>NaN</td>\n",
       "      <td>38</td>\n",
       "      <td>43.0</td>\n",
       "      <td>57.0</td>\n",
       "      <td>20.0</td>\n",
       "      <td>26.0</td>\n",
       "      <td>12.0</td>\n",
       "      <td>30.0</td>\n",
       "    </tr>\n",
       "    <tr>\n",
       "      <th>8</th>\n",
       "      <td>manor house</td>\n",
       "      <td>23.0</td>\n",
       "      <td>6.0</td>\n",
       "      <td>NaN</td>\n",
       "      <td>NaN</td>\n",
       "      <td>12</td>\n",
       "      <td>10.0</td>\n",
       "      <td>7.0</td>\n",
       "      <td>6.0</td>\n",
       "      <td>16.0</td>\n",
       "      <td>3.0</td>\n",
       "      <td>2.0</td>\n",
       "    </tr>\n",
       "    <tr>\n",
       "      <th>9</th>\n",
       "      <td>other property</td>\n",
       "      <td>18.0</td>\n",
       "      <td>8.0</td>\n",
       "      <td>3.0</td>\n",
       "      <td>1.0</td>\n",
       "      <td>17</td>\n",
       "      <td>8.0</td>\n",
       "      <td>9.0</td>\n",
       "      <td>11.0</td>\n",
       "      <td>3.0</td>\n",
       "      <td>4.0</td>\n",
       "      <td>4.0</td>\n",
       "    </tr>\n",
       "    <tr>\n",
       "      <th>10</th>\n",
       "      <td>chalet</td>\n",
       "      <td>16.0</td>\n",
       "      <td>1.0</td>\n",
       "      <td>NaN</td>\n",
       "      <td>NaN</td>\n",
       "      <td>15</td>\n",
       "      <td>10.0</td>\n",
       "      <td>13.0</td>\n",
       "      <td>11.0</td>\n",
       "      <td>3.0</td>\n",
       "      <td>33.0</td>\n",
       "      <td>42.0</td>\n",
       "    </tr>\n",
       "    <tr>\n",
       "      <th>11</th>\n",
       "      <td>bungalow</td>\n",
       "      <td>7.0</td>\n",
       "      <td>34.0</td>\n",
       "      <td>9.0</td>\n",
       "      <td>1.0</td>\n",
       "      <td>33</td>\n",
       "      <td>48.0</td>\n",
       "      <td>13.0</td>\n",
       "      <td>82.0</td>\n",
       "      <td>27.0</td>\n",
       "      <td>11.0</td>\n",
       "      <td>16.0</td>\n",
       "    </tr>\n",
       "    <tr>\n",
       "      <th>12</th>\n",
       "      <td>farmhouse</td>\n",
       "      <td>6.0</td>\n",
       "      <td>10.0</td>\n",
       "      <td>10.0</td>\n",
       "      <td>NaN</td>\n",
       "      <td>8</td>\n",
       "      <td>3.0</td>\n",
       "      <td>35.0</td>\n",
       "      <td>36.0</td>\n",
       "      <td>15.0</td>\n",
       "      <td>14.0</td>\n",
       "      <td>7.0</td>\n",
       "    </tr>\n",
       "    <tr>\n",
       "      <th>13</th>\n",
       "      <td>castle</td>\n",
       "      <td>NaN</td>\n",
       "      <td>NaN</td>\n",
       "      <td>NaN</td>\n",
       "      <td>NaN</td>\n",
       "      <td>1</td>\n",
       "      <td>1.0</td>\n",
       "      <td>4.0</td>\n",
       "      <td>2.0</td>\n",
       "      <td>NaN</td>\n",
       "      <td>NaN</td>\n",
       "      <td>2.0</td>\n",
       "    </tr>\n",
       "    <tr>\n",
       "      <th>14</th>\n",
       "      <td>pavilion</td>\n",
       "      <td>NaN</td>\n",
       "      <td>NaN</td>\n",
       "      <td>NaN</td>\n",
       "      <td>NaN</td>\n",
       "      <td>1</td>\n",
       "      <td>NaN</td>\n",
       "      <td>NaN</td>\n",
       "      <td>NaN</td>\n",
       "      <td>NaN</td>\n",
       "      <td>NaN</td>\n",
       "      <td>NaN</td>\n",
       "    </tr>\n",
       "  </tbody>\n",
       "</table>\n",
       "</div>"
      ],
      "text/plain": [
       "                 Subtype  Anvers  Brabant Flamand  Brabant Wallon  Bruxelles  \\\n",
       "0                  house  2512.0           2001.0           788.0      580.0   \n",
       "1                  villa   298.0            374.0           345.0       13.0   \n",
       "2     mixed use building   118.0             77.0            37.0       64.0   \n",
       "3             town house    71.0             60.0            25.0       42.0   \n",
       "4                mansion    65.0             24.0            12.0       36.0   \n",
       "5        apartment block    62.0             42.0            23.0      204.0   \n",
       "6   exceptional property    45.0             51.0            32.0       14.0   \n",
       "7        country cottage    23.0             43.0            28.0        NaN   \n",
       "8            manor house    23.0              6.0             NaN        NaN   \n",
       "9         other property    18.0              8.0             3.0        1.0   \n",
       "10                chalet    16.0              1.0             NaN        NaN   \n",
       "11              bungalow     7.0             34.0             9.0        1.0   \n",
       "12             farmhouse     6.0             10.0            10.0        NaN   \n",
       "13                castle     NaN              NaN             NaN        NaN   \n",
       "14              pavilion     NaN              NaN             NaN        NaN   \n",
       "\n",
       "    Flandre-Occidentale  Flandre-Orientale  Hainaut   Liege  Limbourg  \\\n",
       "0                  3583             3179.0   3389.0  2555.0    1478.0   \n",
       "1                   411              241.0    480.0   281.0     120.0   \n",
       "2                    57              100.0    199.0   174.0      66.0   \n",
       "3                    39               32.0     49.0    74.0       1.0   \n",
       "4                    82               70.0     76.0    40.0      21.0   \n",
       "5                    44               79.0    232.0   232.0      14.0   \n",
       "6                    37               41.0     66.0    83.0      12.0   \n",
       "7                    38               43.0     57.0    20.0      26.0   \n",
       "8                    12               10.0      7.0     6.0      16.0   \n",
       "9                    17                8.0      9.0    11.0       3.0   \n",
       "10                   15               10.0     13.0    11.0       3.0   \n",
       "11                   33               48.0     13.0    82.0      27.0   \n",
       "12                    8                3.0     35.0    36.0      15.0   \n",
       "13                    1                1.0      4.0     2.0       NaN   \n",
       "14                    1                NaN      NaN     NaN       NaN   \n",
       "\n",
       "    Luxembourg   Namur  \n",
       "0        886.0  1149.0  \n",
       "1         69.0   199.0  \n",
       "2         51.0    44.0  \n",
       "3          5.0    11.0  \n",
       "4          6.0    29.0  \n",
       "5         32.0    80.0  \n",
       "6         40.0    29.0  \n",
       "7         12.0    30.0  \n",
       "8          3.0     2.0  \n",
       "9          4.0     4.0  \n",
       "10        33.0    42.0  \n",
       "11        11.0    16.0  \n",
       "12        14.0     7.0  \n",
       "13         NaN     2.0  \n",
       "14         NaN     NaN  "
      ]
     },
     "execution_count": 6,
     "metadata": {},
     "output_type": "execute_result"
    }
   ],
   "source": [
    "province_house_sub = locality_subtype[locality_subtype['type_of_property'] == 'house']\n",
    "\n",
    "dataframes = []\n",
    "for element in ['Anvers', \n",
    "                'Brabant Flamand', \n",
    "                'Brabant Wallon', \n",
    "                'Bruxelles', \n",
    "                'Flandre-Occidentale',\n",
    "                'Flandre-Orientale',\n",
    "                'Hainaut',\n",
    "                'Liege',\n",
    "                'Limbourg',\n",
    "                'Luxembourg',\n",
    "                'Namur'\n",
    "               ]:\n",
    "    dataframe = province_house_sub[province_house_sub['province'] == element].subtype_of_property.agg(['value_counts'])\n",
    "    dataframe.reset_index(level=0, inplace=True)\n",
    "    dataframe = dataframe.rename(columns={'index':'Subtype', 'value_counts':element})\n",
    "    dataframes.append(dataframe)\n",
    "\n",
    "house_subtype_province = pd.merge(dataframes[0], dataframes[1], how = 'outer', on='Subtype')\n",
    "\n",
    "for i in range(2, len(dataframes)):\n",
    "    house_subtype_province = pd.merge(house_subtype_province, dataframes[i], how = 'outer', on='Subtype')\n",
    "    \n",
    "house_subtype_province"
   ]
  },
  {
   "cell_type": "code",
   "execution_count": 7,
   "metadata": {},
   "outputs": [
    {
     "data": {
      "text/plain": [
       "<matplotlib.axes._subplots.AxesSubplot at 0x179e1eb8130>"
      ]
     },
     "execution_count": 7,
     "metadata": {},
     "output_type": "execute_result"
    },
    {
     "data": {
      "image/png": "[encoded data removed]",
      "text/plain": [
       "<Figure size 1080x720 with 1 Axes>"
      ]
     },
     "metadata": {
      "needs_background": "light"
     },
     "output_type": "display_data"
    }
   ],
   "source": [
    "house_subtype_province.plot.bar(x = 'Subtype', \n",
    "                                y = ['Anvers', \n",
    "                                      'Brabant Flamand',\n",
    "                                      'Flandre-Occidentale',\n",
    "                                      'Flandre-Orientale',\n",
    "                                      'Limbourg'],\n",
    "                               logy=True,\n",
    "                               figsize=(15,10),\n",
    "                               title=\"Number of houses by subtypes for the Flemish Region\")\n"
   ]
  },
  {
   "cell_type": "code",
   "execution_count": 8,
   "metadata": {},
   "outputs": [
    {
     "data": {
      "text/plain": [
       "<matplotlib.axes._subplots.AxesSubplot at 0x179e2802a00>"
      ]
     },
     "execution_count": 8,
     "metadata": {},
     "output_type": "execute_result"
    },
    {
     "data": {
      "image/png": "[encoded data removed]",
      "text/plain": [
       "<Figure size 1080x720 with 1 Axes>"
      ]
     },
     "metadata": {
      "needs_background": "light"
     },
     "output_type": "display_data"
    }
   ],
   "source": [
    "house_subtype_province.plot.bar(x = 'Subtype', \n",
    "                                y = 'Bruxelles',\n",
    "                               logy=True,\n",
    "                               figsize=(15,10),\n",
    "                               title=\"Number of houses by subtypes for Bruxelles\")"
   ]
  },
  {
   "cell_type": "code",
   "execution_count": 9,
   "metadata": {},
   "outputs": [
    {
     "data": {
      "text/plain": [
       "<matplotlib.axes._subplots.AxesSubplot at 0x179e312e7f0>"
      ]
     },
     "execution_count": 9,
     "metadata": {},
     "output_type": "execute_result"
    },
    {
     "data": {
      "image/png": "[encoded data removed]",
      "text/plain": [
       "<Figure size 1080x720 with 1 Axes>"
      ]
     },
     "metadata": {
      "needs_background": "light"
     },
     "output_type": "display_data"
    }
   ],
   "source": [
    "house_subtype_province.plot.bar(x = 'Subtype', \n",
    "                                y = ['Brabant Wallon',\n",
    "                                      'Hainaut',\n",
    "                                      'Liege',\n",
    "                                      'Luxembourg',\n",
    "                                      'Namur'],\n",
    "                               logy=True,\n",
    "                               figsize=(15,10),\n",
    "                               title=\"Number of houses by subtypes for the Walloon Region\")"
   ]
  },
  {
   "cell_type": "code",
   "execution_count": 10,
   "metadata": {},
   "outputs": [
    {
     "data": {
      "text/html": [
       "<div>\n",
       "<style scoped>\n",
       "    .dataframe tbody tr th:only-of-type {\n",
       "        vertical-align: middle;\n",
       "    }\n",
       "\n",
       "    .dataframe tbody tr th {\n",
       "        vertical-align: top;\n",
       "    }\n",
       "\n",
       "    .dataframe thead th {\n",
       "        text-align: right;\n",
       "    }\n",
       "</style>\n",
       "<table border=\"1\" class=\"dataframe\">\n",
       "  <thead>\n",
       "    <tr style=\"text-align: right;\">\n",
       "      <th></th>\n",
       "      <th>Subtype</th>\n",
       "      <th>Anvers</th>\n",
       "      <th>Brabant Flamand</th>\n",
       "      <th>Brabant Wallon</th>\n",
       "      <th>Bruxelles</th>\n",
       "      <th>Flandre-Occidentale</th>\n",
       "      <th>Flandre-Orientale</th>\n",
       "      <th>Hainaut</th>\n",
       "      <th>Liege</th>\n",
       "      <th>Limbourg</th>\n",
       "      <th>Luxembourg</th>\n",
       "      <th>Namur</th>\n",
       "    </tr>\n",
       "  </thead>\n",
       "  <tbody>\n",
       "    <tr>\n",
       "      <th>0</th>\n",
       "      <td>apartment</td>\n",
       "      <td>2453</td>\n",
       "      <td>1147</td>\n",
       "      <td>432.0</td>\n",
       "      <td>2637</td>\n",
       "      <td>4971</td>\n",
       "      <td>2180</td>\n",
       "      <td>894</td>\n",
       "      <td>1148.0</td>\n",
       "      <td>1154</td>\n",
       "      <td>283.0</td>\n",
       "      <td>318.0</td>\n",
       "    </tr>\n",
       "    <tr>\n",
       "      <th>1</th>\n",
       "      <td>ground floor</td>\n",
       "      <td>222</td>\n",
       "      <td>151</td>\n",
       "      <td>72.0</td>\n",
       "      <td>180</td>\n",
       "      <td>150</td>\n",
       "      <td>145</td>\n",
       "      <td>53</td>\n",
       "      <td>65.0</td>\n",
       "      <td>123</td>\n",
       "      <td>18.0</td>\n",
       "      <td>22.0</td>\n",
       "    </tr>\n",
       "    <tr>\n",
       "      <th>2</th>\n",
       "      <td>duplex</td>\n",
       "      <td>134</td>\n",
       "      <td>223</td>\n",
       "      <td>64.0</td>\n",
       "      <td>199</td>\n",
       "      <td>307</td>\n",
       "      <td>159</td>\n",
       "      <td>76</td>\n",
       "      <td>84.0</td>\n",
       "      <td>95</td>\n",
       "      <td>33.0</td>\n",
       "      <td>37.0</td>\n",
       "    </tr>\n",
       "    <tr>\n",
       "      <th>3</th>\n",
       "      <td>penthouse</td>\n",
       "      <td>130</td>\n",
       "      <td>81</td>\n",
       "      <td>30.0</td>\n",
       "      <td>212</td>\n",
       "      <td>178</td>\n",
       "      <td>114</td>\n",
       "      <td>27</td>\n",
       "      <td>41.0</td>\n",
       "      <td>79</td>\n",
       "      <td>3.0</td>\n",
       "      <td>13.0</td>\n",
       "    </tr>\n",
       "    <tr>\n",
       "      <th>4</th>\n",
       "      <td>service flat</td>\n",
       "      <td>70</td>\n",
       "      <td>67</td>\n",
       "      <td>5.0</td>\n",
       "      <td>13</td>\n",
       "      <td>57</td>\n",
       "      <td>59</td>\n",
       "      <td>2</td>\n",
       "      <td>NaN</td>\n",
       "      <td>21</td>\n",
       "      <td>NaN</td>\n",
       "      <td>3.0</td>\n",
       "    </tr>\n",
       "    <tr>\n",
       "      <th>5</th>\n",
       "      <td>flat studio</td>\n",
       "      <td>57</td>\n",
       "      <td>67</td>\n",
       "      <td>7.0</td>\n",
       "      <td>187</td>\n",
       "      <td>485</td>\n",
       "      <td>32</td>\n",
       "      <td>15</td>\n",
       "      <td>27.0</td>\n",
       "      <td>7</td>\n",
       "      <td>2.0</td>\n",
       "      <td>20.0</td>\n",
       "    </tr>\n",
       "    <tr>\n",
       "      <th>6</th>\n",
       "      <td>kot</td>\n",
       "      <td>35</td>\n",
       "      <td>21</td>\n",
       "      <td>NaN</td>\n",
       "      <td>1</td>\n",
       "      <td>24</td>\n",
       "      <td>3</td>\n",
       "      <td>1</td>\n",
       "      <td>NaN</td>\n",
       "      <td>1</td>\n",
       "      <td>2.0</td>\n",
       "      <td>NaN</td>\n",
       "    </tr>\n",
       "    <tr>\n",
       "      <th>7</th>\n",
       "      <td>loft</td>\n",
       "      <td>28</td>\n",
       "      <td>25</td>\n",
       "      <td>2.0</td>\n",
       "      <td>58</td>\n",
       "      <td>28</td>\n",
       "      <td>33</td>\n",
       "      <td>19</td>\n",
       "      <td>14.0</td>\n",
       "      <td>13</td>\n",
       "      <td>NaN</td>\n",
       "      <td>3.0</td>\n",
       "    </tr>\n",
       "    <tr>\n",
       "      <th>8</th>\n",
       "      <td>triplex</td>\n",
       "      <td>13</td>\n",
       "      <td>6</td>\n",
       "      <td>6.0</td>\n",
       "      <td>22</td>\n",
       "      <td>4</td>\n",
       "      <td>4</td>\n",
       "      <td>3</td>\n",
       "      <td>12.0</td>\n",
       "      <td>3</td>\n",
       "      <td>NaN</td>\n",
       "      <td>NaN</td>\n",
       "    </tr>\n",
       "  </tbody>\n",
       "</table>\n",
       "</div>"
      ],
      "text/plain": [
       "        Subtype  Anvers  Brabant Flamand  Brabant Wallon  Bruxelles  \\\n",
       "0     apartment    2453             1147           432.0       2637   \n",
       "1  ground floor     222              151            72.0        180   \n",
       "2        duplex     134              223            64.0        199   \n",
       "3     penthouse     130               81            30.0        212   \n",
       "4  service flat      70               67             5.0         13   \n",
       "5   flat studio      57               67             7.0        187   \n",
       "6           kot      35               21             NaN          1   \n",
       "7          loft      28               25             2.0         58   \n",
       "8       triplex      13                6             6.0         22   \n",
       "\n",
       "   Flandre-Occidentale  Flandre-Orientale  Hainaut   Liege  Limbourg  \\\n",
       "0                 4971               2180      894  1148.0      1154   \n",
       "1                  150                145       53    65.0       123   \n",
       "2                  307                159       76    84.0        95   \n",
       "3                  178                114       27    41.0        79   \n",
       "4                   57                 59        2     NaN        21   \n",
       "5                  485                 32       15    27.0         7   \n",
       "6                   24                  3        1     NaN         1   \n",
       "7                   28                 33       19    14.0        13   \n",
       "8                    4                  4        3    12.0         3   \n",
       "\n",
       "   Luxembourg  Namur  \n",
       "0       283.0  318.0  \n",
       "1        18.0   22.0  \n",
       "2        33.0   37.0  \n",
       "3         3.0   13.0  \n",
       "4         NaN    3.0  \n",
       "5         2.0   20.0  \n",
       "6         2.0    NaN  \n",
       "7         NaN    3.0  \n",
       "8         NaN    NaN  "
      ]
     },
     "execution_count": 10,
     "metadata": {},
     "output_type": "execute_result"
    }
   ],
   "source": [
    "province_apart_sub = locality_subtype[locality_subtype['type_of_property'] == 'apartment']\n",
    "\n",
    "dataframes = []\n",
    "for element in ['Anvers', \n",
    "                'Brabant Flamand', \n",
    "                'Brabant Wallon', \n",
    "                'Bruxelles', \n",
    "                'Flandre-Occidentale',\n",
    "                'Flandre-Orientale',\n",
    "                'Hainaut',\n",
    "                'Liege',\n",
    "                'Limbourg',\n",
    "                'Luxembourg',\n",
    "                'Namur'\n",
    "               ]:\n",
    "    dataframe = province_apart_sub[province_apart_sub['province'] == element].subtype_of_property.agg(['value_counts'])\n",
    "    dataframe.reset_index(level=0, inplace=True)\n",
    "    dataframe = dataframe.rename(columns={'index':'Subtype', 'value_counts':element})\n",
    "    dataframes.append(dataframe)\n",
    "\n",
    "apart_subtype_province = pd.merge(dataframes[0], dataframes[1], how = 'outer', on='Subtype')\n",
    "\n",
    "for i in range(2, len(dataframes)):\n",
    "    apart_subtype_province = pd.merge(apart_subtype_province, dataframes[i], how = 'outer', on='Subtype')\n",
    "\n",
    "apart_subtype_province"
   ]
  },
  {
   "cell_type": "code",
   "execution_count": 14,
   "metadata": {},
   "outputs": [
    {
     "data": {
      "text/plain": [
       "<matplotlib.axes._subplots.AxesSubplot at 0x179e464fa30>"
      ]
     },
     "execution_count": 14,
     "metadata": {},
     "output_type": "execute_result"
    },
    {
     "data": {
      "image/png": "[encoded data removed]",
      "text/plain": [
       "<Figure size 1080x720 with 1 Axes>"
      ]
     },
     "metadata": {
      "needs_background": "light"
     },
     "output_type": "display_data"
    }
   ],
   "source": [
    "apart_subtype_province.plot.bar(x = 'Subtype', \n",
    "                                y = ['Anvers', \n",
    "                                      'Brabant Flamand',\n",
    "                                      'Flandre-Occidentale',\n",
    "                                      'Flandre-Orientale',\n",
    "                                      'Limbourg'],\n",
    "                               logy=True,\n",
    "                               figsize=(15,10),\n",
    "                               title=\"Number of apartments by subtypes for the Flemish Region\")"
   ]
  },
  {
   "cell_type": "code",
   "execution_count": 15,
   "metadata": {},
   "outputs": [
    {
     "data": {
      "text/plain": [
       "<matplotlib.axes._subplots.AxesSubplot at 0x179e70a9850>"
      ]
     },
     "execution_count": 15,
     "metadata": {},
     "output_type": "execute_result"
    },
    {
     "data": {
      "image/png": "[encoded data removed]",
      "text/plain": [
       "<Figure size 1080x720 with 1 Axes>"
      ]
     },
     "metadata": {
      "needs_background": "light"
     },
     "output_type": "display_data"
    }
   ],
   "source": [
    "apart_subtype_province.plot.bar(x = 'Subtype', \n",
    "                                y = 'Bruxelles',\n",
    "                               logy=True,\n",
    "                               figsize=(15,10),\n",
    "                               title=\"Number of apartments by subtypes for Bruxelles\")"
   ]
  },
  {
   "cell_type": "code",
   "execution_count": 16,
   "metadata": {},
   "outputs": [
    {
     "data": {
      "text/plain": [
       "<matplotlib.axes._subplots.AxesSubplot at 0x179e60e0400>"
      ]
     },
     "execution_count": 16,
     "metadata": {},
     "output_type": "execute_result"
    },
    {
     "data": {
      "image/png": "[encoded data removed]",
      "text/plain": [
       "<Figure size 1080x720 with 1 Axes>"
      ]
     },
     "metadata": {
      "needs_background": "light"
     },
     "output_type": "display_data"
    }
   ],
   "source": [
    "apart_subtype_province.plot.bar(x = 'Subtype', \n",
    "                                y = ['Brabant Wallon',\n",
    "                                      'Hainaut',\n",
    "                                      'Liege',\n",
    "                                      'Luxembourg',\n",
    "                                      'Namur'],\n",
    "                               logy=True,\n",
    "                               figsize=(15,10),\n",
    "                               title=\"Number of apartments by subtypes for the Walloon Region\")"
   ]
  },
  {
   "cell_type": "raw",
   "metadata": {},
   "source": [
    "TODO : house/apart by province for the subtypes"
   ]
  },
  {
   "cell_type": "markdown",
   "metadata": {},
   "source": [
    "#### By number of bedrooms"
   ]
  },
  {
   "cell_type": "code",
   "execution_count": null,
   "metadata": {},
   "outputs": [],
   "source": []
  },
  {
   "cell_type": "code",
   "execution_count": null,
   "metadata": {},
   "outputs": [],
   "source": []
  },
  {
   "cell_type": "code",
   "execution_count": null,
   "metadata": {},
   "outputs": [],
   "source": []
  },
  {
   "cell_type": "code",
   "execution_count": null,
   "metadata": {},
   "outputs": [],
   "source": []
  },
  {
   "cell_type": "markdown",
   "metadata": {},
   "source": [
    "#### By house area"
   ]
  },
  {
   "cell_type": "code",
   "execution_count": null,
   "metadata": {},
   "outputs": [],
   "source": []
  },
  {
   "cell_type": "code",
   "execution_count": null,
   "metadata": {},
   "outputs": [],
   "source": []
  },
  {
   "cell_type": "code",
   "execution_count": null,
   "metadata": {},
   "outputs": [],
   "source": []
  },
  {
   "cell_type": "code",
   "execution_count": null,
   "metadata": {},
   "outputs": [],
   "source": []
  },
  {
   "cell_type": "markdown",
   "metadata": {},
   "source": [
    "#### By kitchen"
   ]
  },
  {
   "cell_type": "raw",
   "metadata": {},
   "source": [
    "This section is here for training only, as the scrapping for this variable has many problems and can't be reliable. \n",
    "We'll work here as if 0 means no fully equiped kitchen, and 1 means a fully equiped kitchen. Truth is 0 means no information on Immoweb, and 1 means there was an info, even if the info was \"no kitchen\"."
   ]
  },
  {
   "cell_type": "code",
   "execution_count": null,
   "metadata": {},
   "outputs": [],
   "source": []
  },
  {
   "cell_type": "code",
   "execution_count": null,
   "metadata": {},
   "outputs": [],
   "source": []
  },
  {
   "cell_type": "code",
   "execution_count": null,
   "metadata": {},
   "outputs": [],
   "source": []
  },
  {
   "cell_type": "code",
   "execution_count": null,
   "metadata": {},
   "outputs": [],
   "source": []
  },
  {
   "cell_type": "markdown",
   "metadata": {},
   "source": [
    "#### By furnished"
   ]
  },
  {
   "cell_type": "code",
   "execution_count": null,
   "metadata": {},
   "outputs": [],
   "source": []
  },
  {
   "cell_type": "code",
   "execution_count": null,
   "metadata": {},
   "outputs": [],
   "source": []
  },
  {
   "cell_type": "code",
   "execution_count": null,
   "metadata": {},
   "outputs": [],
   "source": []
  },
  {
   "cell_type": "code",
   "execution_count": null,
   "metadata": {},
   "outputs": [],
   "source": []
  },
  {
   "cell_type": "markdown",
   "metadata": {},
   "source": [
    "#### By open fire"
   ]
  },
  {
   "cell_type": "code",
   "execution_count": null,
   "metadata": {},
   "outputs": [],
   "source": []
  },
  {
   "cell_type": "code",
   "execution_count": null,
   "metadata": {},
   "outputs": [],
   "source": []
  },
  {
   "cell_type": "code",
   "execution_count": null,
   "metadata": {},
   "outputs": [],
   "source": []
  },
  {
   "cell_type": "code",
   "execution_count": null,
   "metadata": {},
   "outputs": [],
   "source": []
  },
  {
   "cell_type": "markdown",
   "metadata": {},
   "source": [
    "#### By presence of a terrace"
   ]
  },
  {
   "cell_type": "code",
   "execution_count": null,
   "metadata": {},
   "outputs": [],
   "source": []
  },
  {
   "cell_type": "code",
   "execution_count": null,
   "metadata": {},
   "outputs": [],
   "source": []
  },
  {
   "cell_type": "code",
   "execution_count": null,
   "metadata": {},
   "outputs": [],
   "source": []
  },
  {
   "cell_type": "code",
   "execution_count": null,
   "metadata": {},
   "outputs": [],
   "source": []
  },
  {
   "cell_type": "markdown",
   "metadata": {},
   "source": [
    "#### By area of the terrace"
   ]
  },
  {
   "cell_type": "code",
   "execution_count": null,
   "metadata": {},
   "outputs": [],
   "source": []
  },
  {
   "cell_type": "code",
   "execution_count": null,
   "metadata": {},
   "outputs": [],
   "source": []
  },
  {
   "cell_type": "code",
   "execution_count": null,
   "metadata": {},
   "outputs": [],
   "source": []
  },
  {
   "cell_type": "code",
   "execution_count": null,
   "metadata": {},
   "outputs": [],
   "source": []
  },
  {
   "cell_type": "markdown",
   "metadata": {},
   "source": [
    "#### By presence of a garden "
   ]
  },
  {
   "cell_type": "code",
   "execution_count": null,
   "metadata": {},
   "outputs": [],
   "source": []
  },
  {
   "cell_type": "code",
   "execution_count": null,
   "metadata": {},
   "outputs": [],
   "source": []
  },
  {
   "cell_type": "code",
   "execution_count": null,
   "metadata": {},
   "outputs": [],
   "source": []
  },
  {
   "cell_type": "code",
   "execution_count": null,
   "metadata": {},
   "outputs": [],
   "source": []
  },
  {
   "cell_type": "markdown",
   "metadata": {},
   "source": [
    "#### By area of the garden"
   ]
  },
  {
   "cell_type": "code",
   "execution_count": null,
   "metadata": {},
   "outputs": [],
   "source": []
  },
  {
   "cell_type": "code",
   "execution_count": null,
   "metadata": {},
   "outputs": [],
   "source": []
  },
  {
   "cell_type": "code",
   "execution_count": null,
   "metadata": {},
   "outputs": [],
   "source": []
  },
  {
   "cell_type": "code",
   "execution_count": null,
   "metadata": {},
   "outputs": [],
   "source": []
  },
  {
   "cell_type": "markdown",
   "metadata": {},
   "source": [
    "#### By surface of the land "
   ]
  },
  {
   "cell_type": "code",
   "execution_count": null,
   "metadata": {},
   "outputs": [],
   "source": []
  },
  {
   "cell_type": "code",
   "execution_count": null,
   "metadata": {},
   "outputs": [],
   "source": []
  },
  {
   "cell_type": "code",
   "execution_count": null,
   "metadata": {},
   "outputs": [],
   "source": []
  },
  {
   "cell_type": "code",
   "execution_count": null,
   "metadata": {},
   "outputs": [],
   "source": []
  },
  {
   "cell_type": "markdown",
   "metadata": {},
   "source": [
    "#### By number of facades "
   ]
  },
  {
   "cell_type": "code",
   "execution_count": null,
   "metadata": {},
   "outputs": [],
   "source": []
  },
  {
   "cell_type": "code",
   "execution_count": null,
   "metadata": {},
   "outputs": [],
   "source": []
  },
  {
   "cell_type": "code",
   "execution_count": null,
   "metadata": {},
   "outputs": [],
   "source": []
  },
  {
   "cell_type": "code",
   "execution_count": null,
   "metadata": {},
   "outputs": [],
   "source": []
  },
  {
   "cell_type": "markdown",
   "metadata": {},
   "source": [
    "#### By presence of a swimming pool "
   ]
  },
  {
   "cell_type": "code",
   "execution_count": null,
   "metadata": {},
   "outputs": [],
   "source": []
  },
  {
   "cell_type": "code",
   "execution_count": null,
   "metadata": {},
   "outputs": [],
   "source": []
  },
  {
   "cell_type": "code",
   "execution_count": null,
   "metadata": {},
   "outputs": [],
   "source": []
  },
  {
   "cell_type": "code",
   "execution_count": null,
   "metadata": {},
   "outputs": [],
   "source": []
  },
  {
   "cell_type": "markdown",
   "metadata": {},
   "source": [
    "#### By state of the building"
   ]
  },
  {
   "cell_type": "code",
   "execution_count": null,
   "metadata": {},
   "outputs": [],
   "source": []
  },
  {
   "cell_type": "code",
   "execution_count": null,
   "metadata": {},
   "outputs": [],
   "source": []
  },
  {
   "cell_type": "code",
   "execution_count": null,
   "metadata": {},
   "outputs": [],
   "source": []
  },
  {
   "cell_type": "code",
   "execution_count": null,
   "metadata": {},
   "outputs": [],
   "source": []
  },
  {
   "cell_type": "markdown",
   "metadata": {},
   "source": [
    "#### By construction year"
   ]
  },
  {
   "cell_type": "code",
   "execution_count": null,
   "metadata": {},
   "outputs": [],
   "source": []
  },
  {
   "cell_type": "code",
   "execution_count": null,
   "metadata": {},
   "outputs": [],
   "source": []
  },
  {
   "cell_type": "code",
   "execution_count": null,
   "metadata": {},
   "outputs": [],
   "source": []
  },
  {
   "cell_type": "code",
   "execution_count": null,
   "metadata": {},
   "outputs": [],
   "source": []
  },
  {
   "cell_type": "markdown",
   "metadata": {},
   "source": [
    "## Type of property"
   ]
  },
  {
   "cell_type": "markdown",
   "metadata": {},
   "source": [
    "## Subtype of property"
   ]
  },
  {
   "cell_type": "markdown",
   "metadata": {},
   "source": [
    "## Number of bedrooms"
   ]
  },
  {
   "cell_type": "markdown",
   "metadata": {},
   "source": [
    "## House area"
   ]
  },
  {
   "cell_type": "markdown",
   "metadata": {},
   "source": [
    "## Kitchen"
   ]
  },
  {
   "cell_type": "raw",
   "metadata": {},
   "source": [
    "This section is here for training only, as the scrapping for this variable has many problems and can't be reliable. \n",
    "We'll work here as if 0 means no fully equiped kitchen, and 1 means a fully equiped kitchen. Truth is 0 means no information on Immoweb, and 1 means there was an info, even if the info was \"no kitchen\"."
   ]
  },
  {
   "cell_type": "markdown",
   "metadata": {},
   "source": [
    "## Furnished"
   ]
  },
  {
   "cell_type": "code",
   "execution_count": null,
   "metadata": {},
   "outputs": [],
   "source": []
  },
  {
   "cell_type": "code",
   "execution_count": null,
   "metadata": {},
   "outputs": [],
   "source": []
  },
  {
   "cell_type": "code",
   "execution_count": null,
   "metadata": {},
   "outputs": [],
   "source": []
  },
  {
   "cell_type": "code",
   "execution_count": null,
   "metadata": {},
   "outputs": [],
   "source": []
  },
  {
   "cell_type": "code",
   "execution_count": null,
   "metadata": {},
   "outputs": [],
   "source": []
  },
  {
   "cell_type": "code",
   "execution_count": null,
   "metadata": {},
   "outputs": [],
   "source": []
  }
 ],
 "metadata": {
  "kernelspec": {
   "display_name": "Python 3",
   "language": "python",
   "name": "python3"
  },
  "language_info": {
   "codemirror_mode": {
    "name": "ipython",
    "version": 3
   },
   "file_extension": ".py",
   "mimetype": "text/x-python",
   "name": "python",
   "nbconvert_exporter": "python",
   "pygments_lexer": "ipython3",
   "version": "3.8.3"
  }
 },
 "nbformat": 4,
 "nbformat_minor": 4
}
