{
 "cells": [
  {
   "cell_type": "markdown",
   "metadata": {},
   "source": [
    "#     Which variable is the target ?"
   ]
  },
  {
   "cell_type": "raw",
   "metadata": {},
   "source": [
    "The price (ImmoEliza want to predict the price of somme houses/aparts). "
   ]
  },
  {
   "cell_type": "markdown",
   "metadata": {},
   "source": [
    "#     How many rows and columns ?"
   ]
  },
  {
   "cell_type": "raw",
   "metadata": {},
   "source": [
    "It depends of the level of cleaning we are doing\n",
    "Between 11.146 rows (every columns is cleaned, so lot of loss of datas) \n",
    "and 52077 (some basic cleaning is done, mostly to make the datas clearer, but few rows are deleted)\n",
    "Depending of the datas we have to analyse, we can easily choose wich cleaning we want to do.\n",
    "20 columns before clean, 19 after (we take out 3 columns and create 2 others)"
   ]
  },
  {
   "cell_type": "markdown",
   "metadata": {},
   "source": [
    "#     What is the correlation between variable/target ? and variable/variable ? (Why?)"
   ]
  },
  {
   "cell_type": "raw",
   "metadata": {},
   "source": [
    "Here is a correlation for all the variables. We are mostly interested by the column (or the row, it's the same) 'Price'."
   ]
  },
  {
   "cell_type": "markdown",
   "metadata": {},
   "source": [
    "![Heatmap General of the correlations](img/picture.png)"
   ]
  },
  {
   "cell_type": "markdown",
   "metadata": {},
   "source": [
    "Keep in mind that the correlation only take numeric value, so, the Province is no calculate, for instance, as well as the sate of the building. (Next time, we'll assign a value for the state, such as 1 for \"to be renovated\" and 5 for \"as new\", fo exemple, this way, we could have reliable numerical values."
   ]
  },
  {
   "cell_type": "raw",
   "metadata": {},
   "source": [
    "For this heatmap, a higher number mean a higher correlation between two variables."
   ]
  },
  {
   "cell_type": "raw",
   "metadata": {},
   "source": [
    "This heatmap also mixed house and apartments, informations for the three regions mixed together. But each variable doesn't have the same weight for the same place, for instance. This is only a general view. "
   ]
  },
  {
   "cell_type": "markdown",
   "metadata": {},
   "source": [
    "For mor informations, more precision, here is a link with the complete analyse for the price over the type (house or appartment) and general place, were we can seemore variations : [Precisions](https://github.com/Demesmaeker/Immo_data_analysis/blob/master/Correlations%20price-variables.ipynb#precisions)"
   ]
  },
  {
   "cell_type": "markdown",
   "metadata": {},
   "source": [
    "#     Which variables have the greatest influence on the target ?"
   ]
  },
  {
   "cell_type": "markdown",
   "metadata": {},
   "source": [
    "![Plot of the mean price by Province](img/picture.png)"
   ]
  },
  {
   "cell_type": "raw",
   "metadata": {},
   "source": [
    "With this and the heatmap, we ca say that the locality, area of the house (and so the number of room, wich have a great correlation together) have the greatest influence on the price."
   ]
  },
  {
   "cell_type": "raw",
   "metadata": {},
   "source": [
    "We can here make a note about the correlation between the price and the construction year, even without seeing it, we can make suppositions that most recent houses/aprtments are in better state, even if not a generality, thus maybe a lower correlation. Should we have modified the state of the building, the result may have show us the importance of this variable."
   ]
  },
  {
   "cell_type": "markdown",
   "metadata": {},
   "source": [
    "#     Which variables have the least influence on the target ?"
   ]
  },
  {
   "cell_type": "code",
   "execution_count": null,
   "metadata": {},
   "outputs": [],
   "source": []
  },
  {
   "cell_type": "markdown",
   "metadata": {},
   "source": [
    "#     How many qualitative and quantitative variable is there ? How would you transform these values into numerical values ?"
   ]
  },
  {
   "cell_type": "code",
   "execution_count": null,
   "metadata": {},
   "outputs": [],
   "source": []
  },
  {
   "cell_type": "markdown",
   "metadata": {},
   "source": [
    "#     Percentage of missing values per column ?"
   ]
  },
  {
   "cell_type": "code",
   "execution_count": null,
   "metadata": {},
   "outputs": [],
   "source": []
  },
  {
   "cell_type": "code",
   "execution_count": null,
   "metadata": {},
   "outputs": [],
   "source": []
  },
  {
   "cell_type": "code",
   "execution_count": null,
   "metadata": {},
   "outputs": [],
   "source": []
  },
  {
   "cell_type": "code",
   "execution_count": null,
   "metadata": {},
   "outputs": [],
   "source": []
  },
  {
   "cell_type": "code",
   "execution_count": null,
   "metadata": {},
   "outputs": [],
   "source": []
  },
  {
   "cell_type": "code",
   "execution_count": null,
   "metadata": {},
   "outputs": [],
   "source": []
  },
  {
   "cell_type": "code",
   "execution_count": null,
   "metadata": {},
   "outputs": [],
   "source": []
  },
  {
   "cell_type": "code",
   "execution_count": null,
   "metadata": {},
   "outputs": [],
   "source": []
  },
  {
   "cell_type": "code",
   "execution_count": null,
   "metadata": {},
   "outputs": [],
   "source": []
  },
  {
   "cell_type": "code",
   "execution_count": null,
   "metadata": {},
   "outputs": [],
   "source": []
  },
  {
   "cell_type": "code",
   "execution_count": null,
   "metadata": {},
   "outputs": [],
   "source": []
  },
  {
   "cell_type": "code",
   "execution_count": null,
   "metadata": {},
   "outputs": [],
   "source": []
  },
  {
   "cell_type": "code",
   "execution_count": null,
   "metadata": {},
   "outputs": [],
   "source": []
  },
  {
   "cell_type": "code",
   "execution_count": null,
   "metadata": {},
   "outputs": [],
   "source": []
  },
  {
   "cell_type": "code",
   "execution_count": null,
   "metadata": {},
   "outputs": [],
   "source": []
  },
  {
   "cell_type": "code",
   "execution_count": null,
   "metadata": {},
   "outputs": [],
   "source": []
  }
 ],
 "metadata": {
  "kernelspec": {
   "display_name": "Python 3",
   "language": "python",
   "name": "python3"
  },
  "language_info": {
   "codemirror_mode": {
    "name": "ipython",
    "version": 3
   },
   "file_extension": ".py",
   "mimetype": "text/x-python",
   "name": "python",
   "nbconvert_exporter": "python",
   "pygments_lexer": "ipython3",
   "version": "3.8.3"
  }
 },
 "nbformat": 4,
 "nbformat_minor": 4
}
