{
 "cells": [
  {
   "cell_type": "code",
   "execution_count": 1,
   "metadata": {},
   "outputs": [
    {
     "name": "stdout",
     "output_type": "stream",
     "text": [
      "changed \"no price\" to 0\n"
     ]
    },
    {
     "name": "stderr",
     "output_type": "stream",
     "text": [
      "C:\\Users\\Shadow\\anaconda3\\lib\\site-packages\\pandas\\core\\generic.py:5303: SettingWithCopyWarning: \n",
      "A value is trying to be set on a copy of a slice from a DataFrame.\n",
      "Try using .loc[row_indexer,col_indexer] = value instead\n",
      "\n",
      "See the caveats in the documentation: https://pandas.pydata.org/pandas-docs/stable/user_guide/indexing.html#returning-a-view-versus-a-copy\n",
      "  self[name] = value\n"
     ]
    },
    {
     "name": "stdout",
     "output_type": "stream",
     "text": [
      "3 useless row deleted\n",
      "None replaced by 0\n",
      "duplicated row cleaned\n",
      "string value changed to numeric\n",
      "correlled renovation statut\n",
      "{0: 'locality', 1: 'type_of_property', 2: 'subtype_of_property', 3: 'price', 4: 'type_of_sale', 5: 'number_of_rooms', 6: 'house_area', 7: 'fully_equipped_kitchen', 8: 'furnished', 9: 'open_fire', 10: 'terrace', 11: 'terrace_area', 12: 'garden', 13: 'garden_area', 14: 'surface_of_the_land', 15: 'surface_of_the_plot_of_land', 16: 'number_of_facades', 17: 'swimming_pool', 18: 'state_of_the_building', 19: 'construction_year'}\n",
      "que voulez-vous clean ? ( q => sortir  // a => tous)a\n",
      "locality : nbr ligne = 52077\n",
      "52077\n",
      "type_of_property : nbr ligne = 52077\n",
      "52077\n",
      "subtype_of_property : nbr ligne = 52077\n",
      "52077\n",
      "price : nbr ligne = 52077\n",
      "removed price = 0\n",
      "removed price under 50 000\n",
      "51689\n",
      "type_of_sale : nbr ligne = 51689\n",
      "51689\n",
      "number_of_rooms : nbr ligne = 51689\n",
      "removed house area = 0\n",
      "43201\n",
      "house_area : nbr ligne = 43201\n",
      "43201\n",
      "fully_equipped_kitchen : nbr ligne = 43201\n",
      "43201\n",
      "furnished : nbr ligne = 43201\n",
      "removed terrace that exist = 0\n",
      "33629\n",
      "open_fire : nbr ligne = 33629\n",
      "33629\n",
      "terrace : nbr ligne = 33629\n",
      "29727\n",
      "terrace_area : nbr ligne = 29727\n",
      "29727\n",
      "garden : nbr ligne = 29727\n",
      "removed surface of the land = 0\n",
      "12322\n",
      "garden_area : nbr ligne = 12322\n",
      "removed facade = 0\n",
      "11146\n",
      "surface_of_the_land : nbr ligne = 11146\n",
      "11146\n",
      "surface_of_the_plot_of_land : nbr ligne = 11146\n",
      "8361\n",
      "number_of_facades : nbr ligne = 8361\n",
      "5023\n"
     ]
    },
    {
     "name": "stderr",
     "output_type": "stream",
     "text": [
      "C:\\Users\\Shadow\\anaconda3\\lib\\site-packages\\pandas\\core\\ops\\array_ops.py:253: FutureWarning: elementwise comparison failed; returning scalar instead, but in the future will perform elementwise comparison\n",
      "  res_values = method(rvalues)\n"
     ]
    }
   ],
   "source": [
    "import pandas as pd\n",
    "import numpy as np\n",
    "import matplotlib.pyplot as plt\n",
    "\n",
    "from functions import clean\n",
    "\n",
    "\n",
    "df = pd.read_csv(\"dataset_house_apartment.csv\")\n",
    "\n",
    "clean_all = clean(df)"
   ]
  },
  {
   "cell_type": "code",
   "execution_count": null,
   "metadata": {},
   "outputs": [],
   "source": []
  }
 ],
 "metadata": {
  "kernelspec": {
   "display_name": "Python 3",
   "language": "python",
   "name": "python3"
  },
  "language_info": {
   "codemirror_mode": {
    "name": "ipython",
    "version": 3
   },
   "file_extension": ".py",
   "mimetype": "text/x-python",
   "name": "python",
   "nbconvert_exporter": "python",
   "pygments_lexer": "ipython3",
   "version": "3.8.3"
  }
 },
 "nbformat": 4,
 "nbformat_minor": 4
}
