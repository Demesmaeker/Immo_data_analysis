{
 "cells": [
  {
   "cell_type": "code",
   "execution_count": 1,
   "metadata": {},
   "outputs": [],
   "source": [
    "import pandas as pd\n",
    "import numpy as np\n",
    "import matplotlib.pyplot as plt\n",
    "\n",
    "from functions import clean\n",
    "\n",
    "\n",
    "df = pd.read_csv(\"dataset_house_apartment.csv\")"
   ]
  },
  {
   "cell_type": "markdown",
   "metadata": {},
   "source": [
    "#     Which variable is the target ?"
   ]
  },
  {
   "cell_type": "raw",
   "metadata": {},
   "source": [
    "The price (ImmoEliza want to predict the price of somme houses/aparts). "
   ]
  },
  {
   "cell_type": "code",
   "execution_count": 2,
   "metadata": {},
   "outputs": [
    {
     "name": "stdout",
     "output_type": "stream",
     "text": [
      "price : nbr ligne = 52077\n",
      "51689\n"
     ]
    },
    {
     "name": "stderr",
     "output_type": "stream",
     "text": [
      "C:\\Users\\Shadow\\anaconda3\\lib\\site-packages\\pandas\\core\\ops\\array_ops.py:253: FutureWarning: elementwise comparison failed; returning scalar instead, but in the future will perform elementwise comparison\n",
      "  res_values = method(rvalues)\n"
     ]
    }
   ],
   "source": [
    "price_cleaned = clean(df, [3])"
   ]
  },
  {
   "cell_type": "code",
   "execution_count": 3,
   "metadata": {},
   "outputs": [
    {
     "data": {
      "image/png": "[encoded data removed]",
      "text/plain": [
       "<Figure size 432x288 with 1 Axes>"
      ]
     },
     "metadata": {
      "needs_background": "light"
     },
     "output_type": "display_data"
    }
   ],
   "source": [
    "price_repartition = plt.hist(price_cleaned['price'])\n",
    "\n",
    "plt.xlabel('Price')\n",
    "plt.ylabel('Number')\n",
    "plt.title('Price repartition')\n",
    "plt.show()"
   ]
  },
  {
   "cell_type": "markdown",
   "metadata": {},
   "source": [
    "#     How many rows and columns ?"
   ]
  },
  {
   "cell_type": "raw",
   "metadata": {},
   "source": [
    "It depends of the level of cleaning we are doing\n",
    "Between 5023 rows (every columns is cleaned, so lot of loss of datas) \n",
    "and 52077 (some basic cleaning is done, mostly to make the datas clearer, but few rows are deleted)\n",
    "Depending of the datas we have to analyse, we can easily choose wich cleaning we want to do."
   ]
  },
  {
   "cell_type": "markdown",
   "metadata": {},
   "source": [
    "#     What is the correlation between variable/target ? (Why?)"
   ]
  },
  {
   "cell_type": "raw",
   "metadata": {},
   "source": [
    "Rel price/locality"
   ]
  },
  {
   "cell_type": "code",
   "execution_count": 7,
   "metadata": {},
   "outputs": [
    {
     "name": "stdout",
     "output_type": "stream",
     "text": [
      "locality : nbr ligne = 52077\n",
      "52077\n",
      "price : nbr ligne = 52077\n",
      "51689\n"
     ]
    },
    {
     "data": {
      "text/html": [
       "<div>\n",
       "<style scoped>\n",
       "    .dataframe tbody tr th:only-of-type {\n",
       "        vertical-align: middle;\n",
       "    }\n",
       "\n",
       "    .dataframe tbody tr th {\n",
       "        vertical-align: top;\n",
       "    }\n",
       "\n",
       "    .dataframe thead th {\n",
       "        text-align: right;\n",
       "    }\n",
       "</style>\n",
       "<table border=\"1\" class=\"dataframe\">\n",
       "  <thead>\n",
       "    <tr style=\"text-align: right;\">\n",
       "      <th></th>\n",
       "      <th>locality</th>\n",
       "      <th>price</th>\n",
       "      <th>number_of_rooms</th>\n",
       "      <th>house_area</th>\n",
       "      <th>fully_equipped_kitchen</th>\n",
       "      <th>open_fire</th>\n",
       "      <th>terrace</th>\n",
       "      <th>terrace_area</th>\n",
       "      <th>garden</th>\n",
       "      <th>garden_area</th>\n",
       "      <th>surface_of_the_land</th>\n",
       "      <th>number_of_facades</th>\n",
       "      <th>swimming_pool</th>\n",
       "      <th>construction_year</th>\n",
       "    </tr>\n",
       "    <tr>\n",
       "      <th>region</th>\n",
       "      <th></th>\n",
       "      <th></th>\n",
       "      <th></th>\n",
       "      <th></th>\n",
       "      <th></th>\n",
       "      <th></th>\n",
       "      <th></th>\n",
       "      <th></th>\n",
       "      <th></th>\n",
       "      <th></th>\n",
       "      <th></th>\n",
       "      <th></th>\n",
       "      <th></th>\n",
       "      <th></th>\n",
       "    </tr>\n",
       "  </thead>\n",
       "  <tbody>\n",
       "    <tr>\n",
       "      <th>Region Flamande</th>\n",
       "      <td>6083.471291</td>\n",
       "      <td>322177.977997</td>\n",
       "      <td>2.672032</td>\n",
       "      <td>121.955771</td>\n",
       "      <td>0.607683</td>\n",
       "      <td>0.035671</td>\n",
       "      <td>0.545443</td>\n",
       "      <td>6.877307</td>\n",
       "      <td>0.287890</td>\n",
       "      <td>77.359200</td>\n",
       "      <td>492.367791</td>\n",
       "      <td>1.823976</td>\n",
       "      <td>0.012710</td>\n",
       "      <td>1334.011944</td>\n",
       "    </tr>\n",
       "    <tr>\n",
       "      <th>Region Wallonne</th>\n",
       "      <td>5280.038384</td>\n",
       "      <td>254678.144176</td>\n",
       "      <td>3.189471</td>\n",
       "      <td>141.944465</td>\n",
       "      <td>0.700653</td>\n",
       "      <td>0.068539</td>\n",
       "      <td>0.575952</td>\n",
       "      <td>9.644114</td>\n",
       "      <td>0.326611</td>\n",
       "      <td>210.594547</td>\n",
       "      <td>838.202035</td>\n",
       "      <td>2.546048</td>\n",
       "      <td>0.024124</td>\n",
       "      <td>806.737655</td>\n",
       "    </tr>\n",
       "    <tr>\n",
       "      <th>Region de Bruxelles-capitale</th>\n",
       "      <td>1093.171416</td>\n",
       "      <td>392053.264752</td>\n",
       "      <td>2.521427</td>\n",
       "      <td>128.081221</td>\n",
       "      <td>0.803007</td>\n",
       "      <td>0.047566</td>\n",
       "      <td>0.668611</td>\n",
       "      <td>10.062149</td>\n",
       "      <td>0.176576</td>\n",
       "      <td>48.590532</td>\n",
       "      <td>32.678708</td>\n",
       "      <td>1.731882</td>\n",
       "      <td>0.010096</td>\n",
       "      <td>1353.622392</td>\n",
       "    </tr>\n",
       "  </tbody>\n",
       "</table>\n",
       "</div>"
      ],
      "text/plain": [
       "                                 locality          price  number_of_rooms  \\\n",
       "region                                                                      \n",
       "Region Flamande               6083.471291  322177.977997         2.672032   \n",
       "Region Wallonne               5280.038384  254678.144176         3.189471   \n",
       "Region de Bruxelles-capitale  1093.171416  392053.264752         2.521427   \n",
       "\n",
       "                              house_area  fully_equipped_kitchen  open_fire  \\\n",
       "region                                                                        \n",
       "Region Flamande               121.955771                0.607683   0.035671   \n",
       "Region Wallonne               141.944465                0.700653   0.068539   \n",
       "Region de Bruxelles-capitale  128.081221                0.803007   0.047566   \n",
       "\n",
       "                               terrace  terrace_area    garden  garden_area  \\\n",
       "region                                                                        \n",
       "Region Flamande               0.545443      6.877307  0.287890    77.359200   \n",
       "Region Wallonne               0.575952      9.644114  0.326611   210.594547   \n",
       "Region de Bruxelles-capitale  0.668611     10.062149  0.176576    48.590532   \n",
       "\n",
       "                              surface_of_the_land  number_of_facades  \\\n",
       "region                                                                 \n",
       "Region Flamande                        492.367791           1.823976   \n",
       "Region Wallonne                        838.202035           2.546048   \n",
       "Region de Bruxelles-capitale            32.678708           1.731882   \n",
       "\n",
       "                              swimming_pool  construction_year  \n",
       "region                                                          \n",
       "Region Flamande                    0.012710        1334.011944  \n",
       "Region Wallonne                    0.024124         806.737655  \n",
       "Region de Bruxelles-capitale       0.010096        1353.622392  "
      ]
     },
     "execution_count": 7,
     "metadata": {},
     "output_type": "execute_result"
    }
   ],
   "source": [
    "prix_locality = clean(df, [0,3])\n",
    "prix_locality = prix_locality.groupby('region').mean()\n",
    "prix_locality"
   ]
  },
  {
   "cell_type": "code",
   "execution_count": 9,
   "metadata": {},
   "outputs": [
    {
     "data": {
      "image/png": "[encoded data removed]",
      "text/plain": [
       "<Figure size 432x288 with 1 Axes>"
      ]
     },
     "metadata": {
      "needs_background": "light"
     },
     "output_type": "display_data"
    }
   ],
   "source": [
    "price_repartition = plt.hist(prix_locality['price'])\n",
    "\n",
    "plt.xlabel('Region')\n",
    "plt.ylabel('Price')\n",
    "plt.title('Average price by locality')\n",
    "plt.show()"
   ]
  },
  {
   "cell_type": "code",
   "execution_count": null,
   "metadata": {},
   "outputs": [],
   "source": []
  },
  {
   "cell_type": "code",
   "execution_count": null,
   "metadata": {},
   "outputs": [],
   "source": []
  },
  {
   "cell_type": "markdown",
   "metadata": {},
   "source": [
    "#     What is the correlation between the variables/variables ? (Why?)"
   ]
  },
  {
   "cell_type": "code",
   "execution_count": null,
   "metadata": {},
   "outputs": [],
   "source": []
  },
  {
   "cell_type": "markdown",
   "metadata": {},
   "source": [
    "#     Which variables have the greatest influence on the target ?"
   ]
  },
  {
   "cell_type": "code",
   "execution_count": null,
   "metadata": {},
   "outputs": [],
   "source": []
  },
  {
   "cell_type": "markdown",
   "metadata": {},
   "source": [
    "#     Which variables have the least influence on the target ?"
   ]
  },
  {
   "cell_type": "code",
   "execution_count": null,
   "metadata": {},
   "outputs": [],
   "source": []
  },
  {
   "cell_type": "markdown",
   "metadata": {},
   "source": [
    "#     How many qualitative and quantitative variable is there ? How would you transform these values into numerical values ?"
   ]
  },
  {
   "cell_type": "code",
   "execution_count": null,
   "metadata": {},
   "outputs": [],
   "source": []
  },
  {
   "cell_type": "markdown",
   "metadata": {},
   "source": [
    "#     Percentage of missing values per column ?"
   ]
  },
  {
   "cell_type": "code",
   "execution_count": null,
   "metadata": {},
   "outputs": [],
   "source": []
  },
  {
   "cell_type": "code",
   "execution_count": null,
   "metadata": {},
   "outputs": [],
   "source": []
  },
  {
   "cell_type": "code",
   "execution_count": null,
   "metadata": {},
   "outputs": [],
   "source": []
  },
  {
   "cell_type": "code",
   "execution_count": null,
   "metadata": {},
   "outputs": [],
   "source": []
  },
  {
   "cell_type": "code",
   "execution_count": null,
   "metadata": {},
   "outputs": [],
   "source": []
  },
  {
   "cell_type": "code",
   "execution_count": null,
   "metadata": {},
   "outputs": [],
   "source": []
  },
  {
   "cell_type": "code",
   "execution_count": null,
   "metadata": {},
   "outputs": [],
   "source": []
  },
  {
   "cell_type": "code",
   "execution_count": null,
   "metadata": {},
   "outputs": [],
   "source": []
  },
  {
   "cell_type": "code",
   "execution_count": null,
   "metadata": {},
   "outputs": [],
   "source": []
  },
  {
   "cell_type": "code",
   "execution_count": null,
   "metadata": {},
   "outputs": [],
   "source": []
  },
  {
   "cell_type": "code",
   "execution_count": null,
   "metadata": {},
   "outputs": [],
   "source": []
  },
  {
   "cell_type": "code",
   "execution_count": null,
   "metadata": {},
   "outputs": [],
   "source": []
  },
  {
   "cell_type": "code",
   "execution_count": null,
   "metadata": {},
   "outputs": [],
   "source": []
  },
  {
   "cell_type": "code",
   "execution_count": null,
   "metadata": {},
   "outputs": [],
   "source": []
  },
  {
   "cell_type": "code",
   "execution_count": null,
   "metadata": {},
   "outputs": [],
   "source": []
  },
  {
   "cell_type": "code",
   "execution_count": null,
   "metadata": {},
   "outputs": [],
   "source": []
  }
 ],
 "metadata": {
  "kernelspec": {
   "display_name": "Python 3",
   "language": "python",
   "name": "python3"
  },
  "language_info": {
   "codemirror_mode": {
    "name": "ipython",
    "version": 3
   },
   "file_extension": ".py",
   "mimetype": "text/x-python",
   "name": "python",
   "nbconvert_exporter": "python",
   "pygments_lexer": "ipython3",
   "version": "3.8.3"
  }
 },
 "nbformat": 4,
 "nbformat_minor": 4
}
